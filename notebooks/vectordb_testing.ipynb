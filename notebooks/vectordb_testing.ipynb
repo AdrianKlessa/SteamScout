{
 "cells": [
  {
   "cell_type": "code",
   "id": "initial_id",
   "metadata": {
    "collapsed": true,
    "ExecuteTime": {
     "end_time": "2024-07-15T14:26:58.340088Z",
     "start_time": "2024-07-15T14:26:54.728502Z"
    }
   },
   "source": [
    "from docarray import BaseDoc\n",
    "from docarray.typing import NdArray\n",
    "\n",
    "class ToyDoc(BaseDoc):\n",
    "  text: str = ''\n",
    "  embedding: NdArray[128]"
   ],
   "outputs": [],
   "execution_count": 1
  },
  {
   "metadata": {},
   "cell_type": "code",
   "outputs": [],
   "execution_count": null,
   "source": [
    "from docarray import DocList\n",
    "import numpy as np\n",
    "from vectordb import InMemoryExactNNVectorDB, HNSWVectorDB\n",
    "\n",
    "# Specify your workspace path\n",
    "db = InMemoryExactNNVectorDB[ToyDoc](workspace='./workspace_path')\n",
    "\n",
    "# Index a list of documents with random embeddings\n",
    "doc_list = [ToyDoc(text=f'toy doc {i}', embedding=np.random.rand(128)) for i in range(1000)]\n",
    "db.index(inputs=DocList[ToyDoc](doc_list))"
   ],
   "id": "a47c4612c237ed"
  },
  {
   "metadata": {
    "ExecuteTime": {
     "end_time": "2024-07-15T14:29:27.813104Z",
     "start_time": "2024-07-15T14:29:27.781854Z"
    }
   },
   "cell_type": "code",
   "source": [
    "# Perform a search query\n",
    "query = ToyDoc(text='query', embedding=np.random.rand(128))\n",
    "results = db.search(inputs=DocList[ToyDoc]([query]), limit=1)\n",
    "\n",
    "# Print out the matches\n",
    "for m in results[0].matches:\n",
    "  print(m)\n",
    "  m.e"
   ],
   "id": "765f539e570bcd00",
   "outputs": [
    {
     "data": {
      "text/plain": [],
      "text/html": [
       "<pre style=\"white-space:pre;overflow-x:auto;line-height:normal;font-family:Menlo,'DejaVu Sans Mono',consolas,'Courier New',monospace\"></pre>\n"
      ]
     },
     "metadata": {},
     "output_type": "display_data"
    },
    {
     "name": "stdout",
     "output_type": "stream",
     "text": [
      "\u001B[1;35mToyDoc\u001B[0m\u001B[1m(\u001B[0m\n",
      "    \u001B[33mid\u001B[0m=\u001B[32m'f7529bd8d0dfb267df1421be52f26814'\u001B[0m,\n",
      "    \u001B[33mtext\u001B[0m=\u001B[32m'toy doc 697'\u001B[0m,\n",
      "    \u001B[33membedding\u001B[0m=\u001B[1;35mNdArray\u001B[0m\u001B[1m(\u001B[0m\u001B[1m[\u001B[0m\u001B[1;36m0.32330185\u001B[0m, \u001B[1;36m0.89269434\u001B[0m, \u001B[1;36m0.23539347\u001B[0m, \u001B[1;36m0.65961198\u001B[0m, \u001B[1;36m0.78324998\u001B[0m,\n",
      "         \u001B[1;36m0.70321443\u001B[0m, \u001B[1;36m0.79247765\u001B[0m, \u001B[1;36m0.8529012\u001B[0m , \u001B[1;36m0.15774017\u001B[0m, \u001B[1;36m0.77760242\u001B[0m,\n",
      "         \u001B[1;36m0.04551047\u001B[0m, \u001B[1;36m0.59361679\u001B[0m, \u001B[1;36m0.29219951\u001B[0m, \u001B[1;36m0.88514965\u001B[0m, \u001B[1;36m0.50778523\u001B[0m,\n",
      "         \u001B[1;36m0.9627889\u001B[0m , \u001B[1;36m0.38824495\u001B[0m, \u001B[1;36m0.33033576\u001B[0m, \u001B[1;36m0.1830116\u001B[0m , \u001B[1;36m0.54596467\u001B[0m,\n",
      "         \u001B[1;36m0.87485307\u001B[0m, \u001B[1;36m0.66322805\u001B[0m, \u001B[1;36m0.88585726\u001B[0m, \u001B[1;36m0.14107379\u001B[0m, \u001B[1;36m0.47982615\u001B[0m,\n",
      "         \u001B[1;36m0.10457807\u001B[0m, \u001B[1;36m0.35763992\u001B[0m, \u001B[1;36m0.47532271\u001B[0m, \u001B[1;36m0.45497114\u001B[0m, \u001B[1;36m0.07295483\u001B[0m,\n",
      "         \u001B[1;36m0.34520915\u001B[0m, \u001B[1;36m0.8933615\u001B[0m , \u001B[1;36m0.46144065\u001B[0m, \u001B[1;36m0.41611273\u001B[0m, \u001B[1;36m0.44840582\u001B[0m,\n",
      "         \u001B[1;36m0.68553768\u001B[0m, \u001B[1;36m0.25077792\u001B[0m, \u001B[1;36m0.13020117\u001B[0m, \u001B[1;36m0.01272416\u001B[0m, \u001B[1;36m0.99710962\u001B[0m,\n",
      "         \u001B[1;36m0.37537554\u001B[0m, \u001B[1;36m0.6804083\u001B[0m , \u001B[1;36m0.86575584\u001B[0m, \u001B[1;36m0.76554988\u001B[0m, \u001B[1;36m0.66974464\u001B[0m,\n",
      "         \u001B[1;36m0.48329199\u001B[0m, \u001B[1;36m0.40370528\u001B[0m, \u001B[1;36m0.06601421\u001B[0m, \u001B[1;36m0.43662772\u001B[0m, \u001B[1;36m0.6420372\u001B[0m ,\n",
      "         \u001B[1;36m0.85484835\u001B[0m, \u001B[1;36m0.72404925\u001B[0m, \u001B[1;36m0.35561023\u001B[0m, \u001B[1;36m0.48262793\u001B[0m, \u001B[1;36m0.37115556\u001B[0m,\n",
      "         \u001B[1;36m0.17237351\u001B[0m, \u001B[1;36m0.95077838\u001B[0m, \u001B[1;36m0.33648704\u001B[0m, \u001B[1;36m0.44217641\u001B[0m, \u001B[1;36m0.30493605\u001B[0m,\n",
      "         \u001B[1;36m0.68472284\u001B[0m, \u001B[1;36m0.26459056\u001B[0m, \u001B[1;36m0.41957881\u001B[0m, \u001B[1;36m0.02945619\u001B[0m, \u001B[1;36m0.13015954\u001B[0m,\n",
      "         \u001B[1;36m0.79852636\u001B[0m, \u001B[1;36m0.0792021\u001B[0m , \u001B[1;36m0.47745383\u001B[0m, \u001B[1;36m0.53247366\u001B[0m, \u001B[1;36m0.20126997\u001B[0m,\n",
      "         \u001B[1;36m0.68811691\u001B[0m, \u001B[1;36m0.30817156\u001B[0m, \u001B[1;36m0.28897163\u001B[0m, \u001B[1;36m0.98382626\u001B[0m, \u001B[1;36m0.8151947\u001B[0m ,\n",
      "         \u001B[1;36m0.00898588\u001B[0m, \u001B[1;36m0.98492813\u001B[0m, \u001B[1;36m0.31254283\u001B[0m, \u001B[1;36m0.06035348\u001B[0m, \u001B[1;36m0.90329527\u001B[0m,\n",
      "         \u001B[1;36m0.83446961\u001B[0m, \u001B[1;36m0.28685237\u001B[0m, \u001B[1;36m0.75311856\u001B[0m, \u001B[1;36m0.29942058\u001B[0m, \u001B[1;36m0.88888948\u001B[0m,\n",
      "         \u001B[1;36m0.77952185\u001B[0m, \u001B[1;36m0.50301578\u001B[0m, \u001B[1;36m0.48415451\u001B[0m, \u001B[1;36m0.32451859\u001B[0m, \u001B[1;36m0.43425627\u001B[0m,\n",
      "         \u001B[1;36m0.39516487\u001B[0m, \u001B[1;36m0.80413252\u001B[0m, \u001B[1;36m0.37056298\u001B[0m, \u001B[1;36m0.00656252\u001B[0m, \u001B[1;36m0.6812423\u001B[0m ,\n",
      "         \u001B[1;36m0.35292356\u001B[0m, \u001B[1;36m0.77134541\u001B[0m, \u001B[1;36m0.38984608\u001B[0m, \u001B[1;36m0.87283187\u001B[0m, \u001B[1;36m0.52813995\u001B[0m,\n",
      "         \u001B[1;36m0.78946009\u001B[0m, \u001B[1;36m0.57148162\u001B[0m, \u001B[1;36m0.81844914\u001B[0m, \u001B[1;36m0.50722995\u001B[0m, \u001B[1;36m0.76258496\u001B[0m,\n",
      "         \u001B[1;36m0.7258116\u001B[0m , \u001B[1;36m0.74185282\u001B[0m, \u001B[1;36m0.74120422\u001B[0m, \u001B[1;36m0.25415068\u001B[0m, \u001B[1;36m0.18965702\u001B[0m,\n",
      "         \u001B[1;36m0.81799994\u001B[0m, \u001B[1;36m0.51416466\u001B[0m, \u001B[1;36m0.7674234\u001B[0m , \u001B[1;36m0.4085462\u001B[0m , \u001B[1;36m0.87350212\u001B[0m,\n",
      "         \u001B[1;36m0.97143497\u001B[0m, \u001B[1;36m0.54968515\u001B[0m, \u001B[1;36m0.51109855\u001B[0m, \u001B[1;36m0.61026575\u001B[0m, \u001B[1;36m0.4107228\u001B[0m ,\n",
      "         \u001B[1;36m0.07971325\u001B[0m, \u001B[1;36m0.38401654\u001B[0m, \u001B[1;36m0.08458235\u001B[0m, \u001B[1;36m0.65888302\u001B[0m, \u001B[1;36m0.8765998\u001B[0m ,\n",
      "         \u001B[1;36m0.91407316\u001B[0m, \u001B[1;36m0.61738865\u001B[0m, \u001B[1;36m0.16366162\u001B[0m\u001B[1m]\u001B[0m\u001B[1m)\u001B[0m\n",
      "\u001B[1m)\u001B[0m\n"
     ]
    }
   ],
   "execution_count": 4
  },
  {
   "metadata": {
    "ExecuteTime": {
     "end_time": "2024-07-15T14:33:07.687395Z",
     "start_time": "2024-07-15T14:33:06.576835Z"
    }
   },
   "cell_type": "code",
   "source": [
    "import pandas as pd\n",
    "import numpy as np\n",
    "from pathlib import Path\n",
    "\n",
    "dataset_path = Path(\"../data/processed\") / \"games_with_vectors.pickle\"\n",
    "\n",
    "df = pd.read_pickle(dataset_path)"
   ],
   "id": "92b453e12cf9dec6",
   "outputs": [],
   "execution_count": 5
  },
  {
   "metadata": {
    "ExecuteTime": {
     "end_time": "2024-07-15T14:35:44.203537Z",
     "start_time": "2024-07-15T14:35:44.119537Z"
    }
   },
   "cell_type": "code",
   "source": "df.info()",
   "id": "3c1f8ef2f414e356",
   "outputs": [
    {
     "name": "stdout",
     "output_type": "stream",
     "text": [
      "<class 'pandas.core.frame.DataFrame'>\n",
      "RangeIndex: 85103 entries, 0 to 85102\n",
      "Data columns (total 41 columns):\n",
      " #   Column                      Non-Null Count  Dtype  \n",
      "---  ------                      --------------  -----  \n",
      " 0   AppID                       85103 non-null  int64  \n",
      " 1   Name                        85097 non-null  object \n",
      " 2   Release date                85103 non-null  object \n",
      " 3   Estimated owners            85103 non-null  object \n",
      " 4   Peak CCU                    85103 non-null  int64  \n",
      " 5   Required age                85103 non-null  int64  \n",
      " 6   Price                       85103 non-null  float64\n",
      " 7   DLC count                   85103 non-null  int64  \n",
      " 8   About the game              85103 non-null  object \n",
      " 9   Supported languages         85103 non-null  object \n",
      " 10  Full audio languages        85103 non-null  object \n",
      " 11  Reviews                     9743 non-null   object \n",
      " 12  Header image                85103 non-null  object \n",
      " 13  Website                     39452 non-null  object \n",
      " 14  Support url                 41586 non-null  object \n",
      " 15  Support email               71507 non-null  object \n",
      " 16  Windows                     85103 non-null  bool   \n",
      " 17  Mac                         85103 non-null  bool   \n",
      " 18  Linux                       85103 non-null  bool   \n",
      " 19  Metacritic score            85103 non-null  int64  \n",
      " 20  Metacritic url              3912 non-null   object \n",
      " 21  User score                  85103 non-null  int64  \n",
      " 22  Positive                    85103 non-null  int64  \n",
      " 23  Negative                    85103 non-null  int64  \n",
      " 24  Score rank                  44 non-null     float64\n",
      " 25  Achievements                85103 non-null  int64  \n",
      " 26  Recommendations             85103 non-null  int64  \n",
      " 27  Notes                       13021 non-null  object \n",
      " 28  Average playtime forever    85103 non-null  int64  \n",
      " 29  Average playtime two weeks  85103 non-null  int64  \n",
      " 30  Median playtime forever     85103 non-null  int64  \n",
      " 31  Median playtime two weeks   85103 non-null  int64  \n",
      " 32  Developers                  81516 non-null  object \n",
      " 33  Publishers                  81236 non-null  object \n",
      " 34  Categories                  80505 non-null  object \n",
      " 35  Genres                      81548 non-null  object \n",
      " 36  Tags                        85103 non-null  object \n",
      " 37  Screenshots                 83097 non-null  object \n",
      " 38  Movies                      78650 non-null  object \n",
      " 39  Description_vector          85103 non-null  object \n",
      " 40  Tags_vector                 85103 non-null  object \n",
      "dtypes: bool(3), float64(2), int64(14), object(22)\n",
      "memory usage: 24.9+ MB\n"
     ]
    }
   ],
   "execution_count": 6
  },
  {
   "metadata": {
    "ExecuteTime": {
     "end_time": "2024-07-15T14:35:59.683223Z",
     "start_time": "2024-07-15T14:35:59.671224Z"
    }
   },
   "cell_type": "code",
   "source": "len(df.iloc[0][\"Tags_vector\"])",
   "id": "6bf0e6adb2a9f381",
   "outputs": [
    {
     "data": {
      "text/plain": [
       "448"
      ]
     },
     "execution_count": 7,
     "metadata": {},
     "output_type": "execute_result"
    }
   ],
   "execution_count": 7
  },
  {
   "metadata": {
    "ExecuteTime": {
     "end_time": "2024-07-15T14:36:08.915075Z",
     "start_time": "2024-07-15T14:36:08.903075Z"
    }
   },
   "cell_type": "code",
   "source": "len(df.iloc[0][\"Description_vector\"])",
   "id": "2f1db378cd296cb1",
   "outputs": [
    {
     "data": {
      "text/plain": [
       "50"
      ]
     },
     "execution_count": 8,
     "metadata": {},
     "output_type": "execute_result"
    }
   ],
   "execution_count": 8
  },
  {
   "metadata": {
    "ExecuteTime": {
     "end_time": "2024-07-15T14:39:45.028770Z",
     "start_time": "2024-07-15T14:39:45.013136Z"
    }
   },
   "cell_type": "code",
   "source": [
    "# game_id is the index in the dataframe\n",
    "\n",
    "class GameDescriptionDoc(BaseDoc):\n",
    "  game_id: int = 0\n",
    "  embedding: NdArray[50]\n",
    "\n",
    "class GameTagDoc(BaseDoc):\n",
    "  game_id: int = 0\n",
    "  embedding: NdArray[448]"
   ],
   "id": "469858f63c7a8adb",
   "outputs": [],
   "execution_count": 9
  },
  {
   "metadata": {
    "ExecuteTime": {
     "end_time": "2024-07-15T14:39:46.594196Z",
     "start_time": "2024-07-15T14:39:45.677240Z"
    }
   },
   "cell_type": "code",
   "source": [
    "description_db = HNSWVectorDB[GameDescriptionDoc](workspace='./game_description_db', space=\"cosine\")\n",
    "tags_db = HNSWVectorDB[GameTagDoc](workspace='./game_tags_db', space=\"cosine\")"
   ],
   "id": "414650f165c0efa4",
   "outputs": [],
   "execution_count": 10
  },
  {
   "metadata": {
    "ExecuteTime": {
     "end_time": "2024-07-15T14:44:06.295520Z",
     "start_time": "2024-07-15T14:43:58.648267Z"
    }
   },
   "cell_type": "code",
   "source": [
    "\"\"\"\n",
    "for index, row in df.iterrows():\n",
    "    print(row['c1'], row['c2'])\n",
    "\"\"\"\n",
    "\n",
    "\n",
    "descriptions_list = [GameDescriptionDoc(game_id=index, embedding=row[\"Description_vector\"]) for index, row in df.iterrows()]\n",
    "tags_list = [GameTagDoc(game_id=index, embedding=row[\"Tags_vector\"]) for index, row in df.iterrows()]"
   ],
   "id": "6987f739e2cbdfc2",
   "outputs": [],
   "execution_count": 11
  },
  {
   "metadata": {
    "ExecuteTime": {
     "end_time": "2024-07-15T14:45:50.394143Z",
     "start_time": "2024-07-15T14:45:33.113637Z"
    }
   },
   "cell_type": "code",
   "source": "description_db.index(inputs=DocList[GameDescriptionDoc](descriptions_list))",
   "id": "defb09e479808099",
   "outputs": [
    {
     "data": {
      "text/plain": [
       "<DocList[GameDescriptionDoc] (length=85103)>"
      ]
     },
     "execution_count": 12,
     "metadata": {},
     "output_type": "execute_result"
    }
   ],
   "execution_count": 12
  },
  {
   "metadata": {
    "ExecuteTime": {
     "end_time": "2024-07-15T14:46:53.068653Z",
     "start_time": "2024-07-15T14:45:54.333284Z"
    }
   },
   "cell_type": "code",
   "source": "tags_db.index(inputs=DocList[GameTagDoc](tags_list))",
   "id": "59a07c4e8b9473ed",
   "outputs": [
    {
     "data": {
      "text/plain": [
       "<DocList[GameTagDoc] (length=85103)>"
      ]
     },
     "execution_count": 13,
     "metadata": {},
     "output_type": "execute_result"
    }
   ],
   "execution_count": 13
  },
  {
   "metadata": {
    "ExecuteTime": {
     "end_time": "2024-07-15T14:53:41.619869Z",
     "start_time": "2024-07-15T14:53:41.611870Z"
    }
   },
   "cell_type": "code",
   "source": [
    "def get_desc_vector_by_app_id(app_id: int):\n",
    "    description_vector = df[df['AppID']==app_id]['Description_vector'].values[0] # This can fail if the app id is not found\n",
    "    return description_vector\n",
    "\n",
    "def get_tags_vector_by_app_id(app_id: int):\n",
    "    tags_vector = df[df['AppID']==app_id]['Tags_vector'].values[0] # This can fail if the app id is not found\n",
    "    return tags_vector"
   ],
   "id": "64b4cad54c3b75c6",
   "outputs": [],
   "execution_count": 15
  },
  {
   "metadata": {
    "ExecuteTime": {
     "end_time": "2024-07-15T15:27:36.520012Z",
     "start_time": "2024-07-15T15:27:36.503109Z"
    }
   },
   "cell_type": "code",
   "source": [
    "def query_games_by_description(app_id: int, no_results=10):\n",
    "    description_vector = get_desc_vector_by_app_id(app_id)\n",
    "    query = GameDescriptionDoc(text='query', embedding=description_vector)\n",
    "    results = description_db.search(inputs=DocList[GameDescriptionDoc]([query]), limit=no_results)\n",
    "    searched_game_name = df.iloc[results[0].matches[0].game_id][\"Name\"]\n",
    "    print(f\"Games similar to {searched_game_name} (by description):\\n\")\n",
    "    \n",
    "    for m in results[0].matches[1:]:\n",
    "      match_game_id = m.game_id\n",
    "      print(df.iloc[match_game_id][\"Name\"])"
   ],
   "id": "8b72361295975449",
   "outputs": [],
   "execution_count": 53
  },
  {
   "metadata": {
    "ExecuteTime": {
     "end_time": "2024-07-15T15:27:36.956773Z",
     "start_time": "2024-07-15T15:27:36.941147Z"
    }
   },
   "cell_type": "code",
   "source": "query_games_by_description(570940) # Dark Souls Remastered",
   "id": "23f7766258801dad",
   "outputs": [
    {
     "name": "stdout",
     "output_type": "stream",
     "text": [
      "Games similar to DARK SOULS™: REMASTERED (by description):\n",
      "\n",
      "DARK SOULS™ III\n",
      "DARK SOULS™ II\n",
      "DARK SOULS™ II: Scholar of the First Sin\n",
      ".hack//G.U. Last Recode\n",
      "Beyond Hanwell Teaser: The Royal Hallamshire\n",
      "Delusions of a Lost Soul\n",
      "The Eternal Castle [REMASTERED]\n",
      "Shadow of Valhalla\n",
      "HeXen: Deathkings of the Dark Citadel\n"
     ]
    }
   ],
   "execution_count": 54
  },
  {
   "metadata": {
    "ExecuteTime": {
     "end_time": "2024-07-15T15:27:38.327668Z",
     "start_time": "2024-07-15T15:27:38.289894Z"
    }
   },
   "cell_type": "code",
   "source": [
    "def query_games_by_tags(app_id: int, no_results=10):\n",
    "    tags_vector = get_tags_vector_by_app_id(app_id)\n",
    "    query = GameTagDoc(text='query', embedding=tags_vector)\n",
    "    results = tags_db.search(inputs=DocList[GameTagDoc]([query]), limit=no_results)\n",
    "    \n",
    "    searched_game_name = df.iloc[results[0].matches[0].game_id][\"Name\"]\n",
    "    print(f\"Games similar to {searched_game_name} (by tags):\\n\")\n",
    "    \n",
    "    for m in results[0].matches[1:]:\n",
    "      match_game_id = m.game_id\n",
    "      print(df.iloc[match_game_id][\"Name\"])"
   ],
   "id": "ff98866a0ed052d9",
   "outputs": [],
   "execution_count": 55
  },
  {
   "metadata": {
    "ExecuteTime": {
     "end_time": "2024-07-15T15:27:38.628106Z",
     "start_time": "2024-07-15T15:27:38.590332Z"
    }
   },
   "cell_type": "code",
   "source": "query_games_by_tags(570940)",
   "id": "3c41a59ea6bac7c",
   "outputs": [
    {
     "name": "stdout",
     "output_type": "stream",
     "text": [
      "Games similar to DARK SOULS™: REMASTERED (by tags):\n",
      "\n",
      "DARK SOULS™ III\n",
      "DARK SOULS™: Prepare To Die™ Edition\n",
      "DARK SOULS™ II: Scholar of the First Sin\n",
      "Lords Of The Fallen™\n",
      "DARK SOULS™ II\n",
      "Kingdom Of Rhea\n",
      "Monster Hunter: World\n",
      "Shattered - Tale of the Forgotten King\n",
      "Dragon's Dogma: Dark Arisen\n"
     ]
    }
   ],
   "execution_count": 56
  },
  {
   "metadata": {
    "ExecuteTime": {
     "end_time": "2024-07-15T15:27:39.529586Z",
     "start_time": "2024-07-15T15:27:39.491812Z"
    }
   },
   "cell_type": "code",
   "source": "query_games_by_tags(1901370)",
   "id": "c2c18a005d41bb85",
   "outputs": [
    {
     "name": "stdout",
     "output_type": "stream",
     "text": [
      "Games similar to Ib (by tags):\n",
      "\n",
      "Tide Up\n",
      "Alicemare\n",
      "Cat in the Box\n",
      "The Witch's House MV\n",
      "The Sand Man\n",
      "Mad Father\n",
      "Angels of Death\n",
      "Viviette\n",
      "Tales of the Black Forest\n"
     ]
    }
   ],
   "execution_count": 57
  },
  {
   "metadata": {
    "ExecuteTime": {
     "end_time": "2024-07-15T15:27:40.158358Z",
     "start_time": "2024-07-15T15:27:40.127104Z"
    }
   },
   "cell_type": "code",
   "source": "query_games_by_description(1901370)",
   "id": "61ec014f392f8d1f",
   "outputs": [
    {
     "name": "stdout",
     "output_type": "stream",
     "text": [
      "Games similar to Ib (by description):\n",
      "\n",
      "Mojo 2: Mia\n",
      "Root Letter Last Answer\n",
      "Annie and the Art Gallery\n",
      "Paper Bride 2 Zangling Village\n",
      "RHEM I SE: The Mysterious Land\n",
      "Agatha Christie - Hercule Poirot: The London Case\n",
      "Darkness Within 2: The Dark Lineage\n",
      "Atelier Ryza 2: Lost Legends & the Secret Fairy\n",
      "VR Nostalgia 5\n"
     ]
    }
   ],
   "execution_count": 58
  },
  {
   "metadata": {
    "ExecuteTime": {
     "end_time": "2024-07-15T15:27:40.705762Z",
     "start_time": "2024-07-15T15:27:40.677798Z"
    }
   },
   "cell_type": "code",
   "source": "query_games_by_description(1901370, no_results=30)",
   "id": "9e14fb8be3cd042a",
   "outputs": [
    {
     "name": "stdout",
     "output_type": "stream",
     "text": [
      "Games similar to Ib (by description):\n",
      "\n",
      "Mojo 2: Mia\n",
      "Root Letter Last Answer\n",
      "Annie and the Art Gallery\n",
      "Paper Bride 2 Zangling Village\n",
      "RHEM I SE: The Mysterious Land\n",
      "Agatha Christie - Hercule Poirot: The London Case\n",
      "Darkness Within 2: The Dark Lineage\n",
      "Atelier Ryza 2: Lost Legends & the Secret Fairy\n",
      "VR Nostalgia 5\n",
      "Atelier Marie Remake: The Alchemist of Salburg\n",
      "Atelier Sophie 2: The Alchemist of the Mysterious Dream\n",
      "Plum Bun Reformatted\n",
      "Forgotten Places: Regained Castle\n",
      "Mojo: Hanako\n",
      "匿名信：隐匿者 / Anonymous Letter ：Prowler\n",
      "√Letter - Root Letter -\n",
      "Phantom Thief Sylphy\n",
      "烛梦灯  The Dreams of Candlelight\n",
      "The Walsingham Files - Chapter 1\n",
      "Demon Hunter 2: New Chapter\n",
      "Mojo\n",
      "Alice's Warped Wonderland:REcollection\n",
      "The Farmthis Gallery\n",
      "Strange Investigations: Becoming Collector's Edition\n",
      "Escape : Lia\n",
      "Faraway: Arctic Escape\n",
      "The Uncertain: VR Experience\n",
      "Myst\n",
      "The Abbey - Director's cut\n"
     ]
    }
   ],
   "execution_count": 59
  },
  {
   "metadata": {
    "ExecuteTime": {
     "end_time": "2024-07-15T15:27:41.449691Z",
     "start_time": "2024-07-15T15:27:41.434063Z"
    }
   },
   "cell_type": "code",
   "source": "query_games_by_tags(1901370, no_results=30)",
   "id": "4f51ea18b8f6d4d9",
   "outputs": [
    {
     "name": "stdout",
     "output_type": "stream",
     "text": [
      "Games similar to Ib (by tags):\n",
      "\n",
      "Tide Up\n",
      "Alicemare\n",
      "Cat in the Box\n",
      "The Witch's House MV\n",
      "The Sand Man\n",
      "Mad Father\n",
      "Angels of Death\n",
      "Viviette\n",
      "Tales of the Black Forest\n",
      "Chloé’s Requiem -encore-\n",
      "Rakuen\n",
      "Psicose?\n",
      "UNREAL LIFE\n",
      "Fausts Alptraum\n",
      "Cursed Mansion\n",
      "Changed\n",
      "The Hanged Man\n",
      "OneShot\n",
      "Confess My Love\n",
      "The Crooked Man\n",
      "Retrace\n",
      "Clea\n",
      "MIDNIGHT Remastered\n",
      "Angels of Death Episode.Eddie\n",
      "Misao: Definitive Edition\n",
      "Corpse Party\n",
      "MEMENTO\n",
      "Night Loops\n",
      "White Day: A Labyrinth Named School\n"
     ]
    }
   ],
   "execution_count": 60
  },
  {
   "metadata": {
    "ExecuteTime": {
     "end_time": "2024-07-15T15:28:48.974018Z",
     "start_time": "2024-07-15T15:28:48.942767Z"
    }
   },
   "cell_type": "code",
   "source": "query_games_by_tags(65540, no_results=30)",
   "id": "fc97bde5cde34c93",
   "outputs": [
    {
     "name": "stdout",
     "output_type": "stream",
     "text": [
      "Games similar to Gothic 1 (by tags):\n",
      "\n",
      "Gothic II: Gold Edition\n",
      "Risen\n",
      "Gothic® 3\n",
      "The Witcher: Enhanced Edition Director's Cut\n",
      "Fable - The Lost Chapters\n",
      "The Elder Scrolls IV: Oblivion® Game of the Year Edition\n",
      "Risen 3 - Titan Lords\n",
      "The Elder Scrolls IV: Oblivion® Game of the Year Edition Deluxe\n",
      "Bound By Flame\n",
      "Fable Anniversary\n",
      "SpellMaster: The Saga\n",
      "The Witcher® 3: Wild Hunt\n",
      "Summoner\n",
      "ArcaniA\n",
      "Gothic 3: Forsaken Gods Enhanced Edition\n",
      "Risen 2: Dark Waters\n",
      "Middle-earth™: Shadow of War™\n",
      "The Elder Scrolls III: Morrowind® Game of the Year Edition\n",
      "Lords Of The Fallen™\n",
      "Divinity II: Developer's Cut\n",
      "Dragon's Dogma: Dark Arisen\n",
      "Enclave\n",
      "The Witcher 2: Assassins of Kings Enhanced Edition\n",
      "Two Worlds Epic Edition\n",
      "Gothic Playable Teaser\n",
      "Demonicon\n",
      "Hogwarts Legacy\n",
      "Two Worlds II HD\n",
      "ELEX\n"
     ]
    }
   ],
   "execution_count": 61
  },
  {
   "metadata": {
    "ExecuteTime": {
     "end_time": "2024-07-15T15:29:07.532233Z",
     "start_time": "2024-07-15T15:29:07.512232Z"
    }
   },
   "cell_type": "code",
   "source": "query_games_by_description(65540, no_results=5)",
   "id": "67e400976771d13c",
   "outputs": [
    {
     "name": "stdout",
     "output_type": "stream",
     "text": [
      "Games similar to Gothic 1 (by description):\n",
      "\n",
      "Head Over Heels\n",
      "Raiders! Forsaken Earth\n",
      "Refuge\n",
      "Orc Colony\n"
     ]
    }
   ],
   "execution_count": 62
  },
  {
   "metadata": {
    "ExecuteTime": {
     "end_time": "2024-07-15T15:32:04.177975Z",
     "start_time": "2024-07-15T15:32:04.162341Z"
    }
   },
   "cell_type": "code",
   "source": "query_games_by_tags(574740, no_results=30)",
   "id": "509f853d116066cf",
   "outputs": [
    {
     "name": "stdout",
     "output_type": "stream",
     "text": [
      "Games similar to Fausts Alptraum (by tags):\n",
      "\n",
      "Tide Up\n",
      "Tales of the Black Forest\n",
      "Cat in the Box\n",
      "Angels of Death\n",
      "The Witch's House MV\n",
      "Higurashi When They Cry Hou - Ch.6 Tsumihoroboshi\n",
      "Re:Turn - One Way Trip\n",
      "Cursed Mansion\n",
      "The Crooked Man\n",
      "Chloé’s Requiem -encore-\n",
      "异化之恶〇Abnormal Treatment\n",
      "Higurashi When They Cry Hou - Ch.7 Minagoroshi\n",
      "Higurashi When They Cry Hou - Ch. 5 Meakashi\n",
      "永冻之壳 The Shell of Permafrost\n",
      "Rakuen\n",
      "MIND SWITCH\n",
      "Facility 386\n",
      "Confess My Love\n",
      "Viviette\n",
      "Reflection of Mine\n",
      "Mad Father\n",
      "Alicemare\n",
      "The Hanged Man\n",
      "Coffin of Ashes\n",
      "KOEWOTAYORINI / 声之寄托\n",
      "Stitched\n",
      "The Sand Man\n",
      "Angels of Death Episode.Eddie\n",
      "Night Loops\n"
     ]
    }
   ],
   "execution_count": 64
  },
  {
   "metadata": {
    "ExecuteTime": {
     "end_time": "2024-07-15T15:36:28.329178Z",
     "start_time": "2024-07-15T15:36:28.320178Z"
    }
   },
   "cell_type": "code",
   "source": "query_games_by_tags(1307710, no_results=10)\n",
   "id": "cc637d931b8e332a",
   "outputs": [
    {
     "name": "stdout",
     "output_type": "stream",
     "text": [
      "Games similar to GRID Legends (by tags):\n",
      "\n",
      "Bump and Run Racing\n",
      "Bounty: Drag Racing\n",
      "Real Drift Multiplayer 2\n",
      "NASCAR 21: Ignition\n",
      "Concept Destruction\n",
      "Need For Speed: Hot Pursuit\n",
      "Strike Cars\n",
      "F1 2015\n",
      "Oval Racer Series - Sandbox\n"
     ]
    }
   ],
   "execution_count": 68
  },
  {
   "metadata": {
    "ExecuteTime": {
     "end_time": "2024-07-15T15:36:41.735958Z",
     "start_time": "2024-07-15T15:36:41.726958Z"
    }
   },
   "cell_type": "code",
   "source": "query_games_by_description(1307710, no_results=10)\n",
   "id": "32a228d48b430a14",
   "outputs": [
    {
     "name": "stdout",
     "output_type": "stream",
     "text": [
      "Games similar to GRID Legends (by description):\n",
      "\n",
      "Torque Drift\n",
      "New Star GP\n",
      "GRID\n",
      "Monster Truck Destruction\n",
      "Forza Motorsport\n",
      "Riptide GP2\n",
      "DIRT 5\n",
      "Tony Stewart's All-American Racing\n",
      "F1® 22\n"
     ]
    }
   ],
   "execution_count": 69
  },
  {
   "metadata": {},
   "cell_type": "code",
   "outputs": [],
   "execution_count": null,
   "source": "",
   "id": "a43174ce6d3f2b4f"
  }
 ],
 "metadata": {
  "kernelspec": {
   "display_name": "Python 3",
   "language": "python",
   "name": "python3"
  },
  "language_info": {
   "codemirror_mode": {
    "name": "ipython",
    "version": 2
   },
   "file_extension": ".py",
   "mimetype": "text/x-python",
   "name": "python",
   "nbconvert_exporter": "python",
   "pygments_lexer": "ipython2",
   "version": "2.7.6"
  }
 },
 "nbformat": 4,
 "nbformat_minor": 5
}
