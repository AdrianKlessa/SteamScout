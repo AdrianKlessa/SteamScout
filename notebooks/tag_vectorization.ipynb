{
 "cells": [
  {
   "cell_type": "markdown",
   "source": [
    "### Steam game tag vectorization"
   ],
   "metadata": {
    "collapsed": false
   }
  },
  {
   "cell_type": "markdown",
   "source": [
    "Tags on Steam can only be chosen from a selection of choices\\* and are used to broadly categorize games. They can be initially provided by developers, but the community is able to suggest (vote for) other tags that will then be displayed on the game's store page.\n",
    "\n",
    "Tags include:\n",
    "* General genres, such as \"RPG\", \"Comedy\", Survival Horror\" or \"puzzle\"\n",
    "* Multiplayer information (\"co-op\", \"singleplayer\", \"pvp\", \"pve\")\n",
    "* Information about game mood such as \"relaxing\", \"cute\", \"violent\" or \"cinematic\"\n",
    "* Opinions about some aspects of the game (\"lore-rich\", \"replay value\", \"great soundtrack\")\n",
    "\n",
    "The tags provide a rich, community-driven description of a game that is at the same time also easily convertable to a vectorized representation due to belonging to a limited set of possible values.\n",
    "\n",
    "\\* Initially, users were able to put anything as a tag, but that option was quickly removed due to abuse/trolling. The tags provided by users included \"Polish\" for The Witcher, \"broken\" for games that users considered to be buggy or unplayable, and \"hat simulator\" for Team Fortress. The phenomenon of users joking with tags hasn't entirely disappeared - at the time of writing, OBS Studio (video recording software) is tagged as \"Emotional\", \"Dark\" and \"Romance\". Accurate tags are more popular, however."
   ],
   "metadata": {
    "collapsed": false
   }
  },
  {
   "cell_type": "code",
   "execution_count": 1,
   "outputs": [],
   "source": [
    "from pathlib import Path\n",
    "data_dir = Path('../data/raw')\n",
    "csv_path = data_dir / \"games.csv\"\n",
    "json_path = data_dir / \"games.json\"\n",
    "\n",
    "import pandas as pd\n",
    "\n",
    "df = pd.read_csv(csv_path)"
   ],
   "metadata": {
    "collapsed": false
   }
  },
  {
   "cell_type": "code",
   "execution_count": 2,
   "outputs": [
    {
     "name": "stdout",
     "output_type": "stream",
     "text": [
      "<class 'pandas.core.frame.DataFrame'>\n",
      "RangeIndex: 85103 entries, 0 to 85102\n",
      "Data columns (total 39 columns):\n",
      " #   Column                      Non-Null Count  Dtype  \n",
      "---  ------                      --------------  -----  \n",
      " 0   AppID                       85103 non-null  int64  \n",
      " 1   Name                        85097 non-null  object \n",
      " 2   Release date                85103 non-null  object \n",
      " 3   Estimated owners            85103 non-null  object \n",
      " 4   Peak CCU                    85103 non-null  int64  \n",
      " 5   Required age                85103 non-null  int64  \n",
      " 6   Price                       85103 non-null  float64\n",
      " 7   DLC count                   85103 non-null  int64  \n",
      " 8   About the game              81536 non-null  object \n",
      " 9   Supported languages         85103 non-null  object \n",
      " 10  Full audio languages        85103 non-null  object \n",
      " 11  Reviews                     9743 non-null   object \n",
      " 12  Header image                85103 non-null  object \n",
      " 13  Website                     39452 non-null  object \n",
      " 14  Support url                 41586 non-null  object \n",
      " 15  Support email               71507 non-null  object \n",
      " 16  Windows                     85103 non-null  bool   \n",
      " 17  Mac                         85103 non-null  bool   \n",
      " 18  Linux                       85103 non-null  bool   \n",
      " 19  Metacritic score            85103 non-null  int64  \n",
      " 20  Metacritic url              3912 non-null   object \n",
      " 21  User score                  85103 non-null  int64  \n",
      " 22  Positive                    85103 non-null  int64  \n",
      " 23  Negative                    85103 non-null  int64  \n",
      " 24  Score rank                  44 non-null     float64\n",
      " 25  Achievements                85103 non-null  int64  \n",
      " 26  Recommendations             85103 non-null  int64  \n",
      " 27  Notes                       13021 non-null  object \n",
      " 28  Average playtime forever    85103 non-null  int64  \n",
      " 29  Average playtime two weeks  85103 non-null  int64  \n",
      " 30  Median playtime forever     85103 non-null  int64  \n",
      " 31  Median playtime two weeks   85103 non-null  int64  \n",
      " 32  Developers                  81516 non-null  object \n",
      " 33  Publishers                  81236 non-null  object \n",
      " 34  Categories                  80505 non-null  object \n",
      " 35  Genres                      81548 non-null  object \n",
      " 36  Tags                        64003 non-null  object \n",
      " 37  Screenshots                 83097 non-null  object \n",
      " 38  Movies                      78650 non-null  object \n",
      "dtypes: bool(3), float64(2), int64(14), object(20)\n",
      "memory usage: 23.6+ MB\n"
     ]
    }
   ],
   "source": [
    "df.info()"
   ],
   "metadata": {
    "collapsed": false
   }
  },
  {
   "cell_type": "code",
   "execution_count": 4,
   "outputs": [],
   "source": [
    "tagged_games = df[df[\"Tags\"].notnull()]"
   ],
   "metadata": {
    "collapsed": false
   }
  },
  {
   "cell_type": "code",
   "execution_count": 6,
   "outputs": [
    {
     "data": {
      "text/plain": "0                          Indie,Casual,Sports,Bowling\n1    Indie,Action,Pixel Graphics,2D,Retro,Arcade,Sc...\n3    2D Platformer,Atmospheric,Surreal,Mystery,Puzz...\n4    Indie,Adventure,Nudity,Violent,Sexual Content,...\n5    Turn-Based Combat,Massively Multiplayer,Multip...\nName: Tags, dtype: object"
     },
     "execution_count": 6,
     "metadata": {},
     "output_type": "execute_result"
    }
   ],
   "source": [
    "tagged_games[\"Tags\"].head()"
   ],
   "metadata": {
    "collapsed": false
   }
  },
  {
   "cell_type": "code",
   "execution_count": 7,
   "outputs": [],
   "source": [
    "from typing import Iterable\n",
    "\n",
    "def str_tags_to_set(tags : str)->Iterable[str]:\n",
    "    return set(tags.split(\",\"))"
   ],
   "metadata": {
    "collapsed": false
   }
  },
  {
   "cell_type": "code",
   "execution_count": 8,
   "outputs": [
    {
     "data": {
      "text/plain": "{'Bowling', 'Casual', 'Indie', 'Sports'}"
     },
     "execution_count": 8,
     "metadata": {},
     "output_type": "execute_result"
    }
   ],
   "source": [
    "# set.update\n",
    "str_tags_to_set(\"Indie,Casual,Sports,Bowling\")"
   ],
   "metadata": {
    "collapsed": false
   }
  },
  {
   "cell_type": "code",
   "execution_count": 10,
   "outputs": [],
   "source": [
    "pd.options.mode.chained_assignment = None\n",
    "tagged_games[\"Tags_set\"] = tagged_games[\"Tags\"].apply(lambda x: str_tags_to_set(x))"
   ],
   "metadata": {
    "collapsed": false
   }
  },
  {
   "cell_type": "code",
   "execution_count": 11,
   "outputs": [
    {
     "data": {
      "text/plain": "0                         {Bowling, Indie, Casual, Sports}\n1        {Arcade, Fast-Paced, Western, Funny, Blood, Re...\n3        {Stylized, Surreal, 2D, Singleplayer, Physics,...\n4        {Nudity, Sexual Content, Indie, Adventure, Vio...\n5        {Mythology, Strategy, MMORPG, RPG, Multiplayer...\n                               ...                        \n85077    {Relaxing, 2D, Clicker, Sandbox, Indie, Nature...\n85079    {3D, Indie, Adventure, Stylized, Point & Click...\n85083    {Sexual Content, Time Management, Funny, Matur...\n85085    {3D, Indie, Adventure, Psychological Horror, S...\n85094    {Time Management, Demons, 3D, Base-Building, I...\nName: Tags_set, Length: 64003, dtype: object"
     },
     "execution_count": 11,
     "metadata": {},
     "output_type": "execute_result"
    }
   ],
   "source": [
    "tagged_games[\"Tags_set\"]"
   ],
   "metadata": {
    "collapsed": false
   }
  },
  {
   "cell_type": "code",
   "execution_count": 12,
   "outputs": [],
   "source": [
    "tags_set_list = tagged_games[\"Tags_set\"].tolist()\n",
    "\n",
    "tags_collection = set()\n",
    "\n",
    "for i in tags_set_list:\n",
    "    tags_collection.update(i)"
   ],
   "metadata": {
    "collapsed": false
   }
  },
  {
   "cell_type": "code",
   "execution_count": 13,
   "outputs": [
    {
     "data": {
      "text/plain": "448"
     },
     "execution_count": 13,
     "metadata": {},
     "output_type": "execute_result"
    }
   ],
   "source": [
    "len(tags_collection)"
   ],
   "metadata": {
    "collapsed": false
   }
  },
  {
   "cell_type": "code",
   "execution_count": 14,
   "outputs": [],
   "source": [
    "tag_dict = dict()\n",
    "for i, el in enumerate(tags_collection):\n",
    "    tag_dict[el] = i"
   ],
   "metadata": {
    "collapsed": false
   }
  },
  {
   "cell_type": "code",
   "execution_count": 15,
   "outputs": [
    {
     "name": "stdout",
     "output_type": "stream",
     "text": [
      "{'Fast-Paced': 0, 'Farming': 1, 'Golf': 2, 'Masterpiece': 3, 'Lemmings': 4, 'Sniper': 5, 'Feature Film': 6, 'Procedural Generation': 7, 'Romance': 8, 'Pixel Graphics': 9, 'Robots': 10, 'Multiplayer': 11, 'Grid-Based Movement': 12, 'Metroidvania': 13, 'Fighting': 14, 'Parody': 15, 'Lore-Rich': 16, 'Narration': 17, 'Lara Croft': 18, 'Online Co-Op': 19, 'Female Protagonist': 20, 'Dark Fantasy': 21, 'Puzzle': 22, 'Utilities': 23, 'FMV': 24, 'Real-Time': 25, 'Remake': 26, 'Snowboarding': 27, 'Software Training': 28, 'Choose Your Own Adventure': 29, 'Nonlinear': 30, 'Free to Play': 31, 'Music': 32, 'Action Roguelike': 33, 'Time Manipulation': 34, 'Hand-drawn': 35, 'Level Editor': 36, 'Gaming': 37, 'Minimalist': 38, 'Roguelike Deckbuilder': 39, 'e-sports': 40, 'Nature': 41, 'Violent': 42, 'Interactive Fiction': 43, 'Dark': 44, 'Skateboarding': 45, 'Sports': 46, 'Score Attack': 47, 'Comedy': 48, 'Real Time Tactics': 49, 'Philosophical': 50, 'Tanks': 51, 'Instrumental Music': 52, 'Pirates': 53, 'Mars': 54, 'Steam Machine': 55, 'Aliens': 56, 'Spelling': 57, 'Hack and Slash': 58, 'Drama': 59, 'Horses': 60, 'Underground': 61, '3D Fighter': 62, 'Card Battler': 63, 'Text-Based': 64, 'Ninja': 65, 'RPG': 66, 'Agriculture': 67, '360 Video': 68, 'PvE': 69, 'Combat Racing': 70, 'Capitalism': 71, 'Escape Room': 72, 'Birds': 73, '1980s': 74, 'Management': 75, 'Exploration': 76, 'Flight': 77, 'Mature': 78, 'Visual Novel': 79, 'Psychological': 80, 'Traditional Roguelike': 81, 'Dragons': 82, 'Survival Horror': 83, 'CRPG': 84, 'Silent Protagonist': 85, '8-bit Music': 86, 'Board Game': 87, 'Colony Sim': 88, 'Co-op': 89, 'Class-Based': 90, 'Cold War': 91, 'Relaxing': 92, 'Clicker': 93, 'Side Scroller': 94, 'Tutorial': 95, 'Boss Rush': 96, 'Deckbuilding': 97, 'Party Game': 98, 'Turn-Based': 99, 'Electronic Music': 100, 'Sailing': 101, 'Epic': 102, 'Medical Sim': 103, 'Chess': 104, 'Sokoban': 105, 'Video Production': 106, 'GameMaker': 107, 'Offroad': 108, 'Life Sim': 109, 'Baseball': 110, 'Perma Death': 111, 'Mod': 112, 'Card Game': 113, 'Extraction Shooter': 114, 'Lovecraftian': 115, 'Werewolves': 116, 'Logic': 117, 'Funny': 118, 'Mechs': 119, 'Mystery Dungeon': 120, 'Blood': 121, 'MMORPG': 122, 'Wholesome': 123, 'Skiing': 124, 'Ambient': 125, 'Singleplayer': 126, 'Well-Written': 127, 'Experimental': 128, 'Naval Combat': 129, 'Tower Defense': 130, 'Vampire': 131, 'Looter Shooter': 132, 'NSFW': 133, 'Superhero': 134, '3D': 135, 'Dinosaurs': 136, 'Colorful': 137, 'Top-Down': 138, 'Dark Comedy': 139, 'Cult Classic': 140, 'Dark Humor': 141, 'Auto Battler': 142, 'Abstract': 143, 'Open World Survival Craft': 144, 'Creature Collector': 145, 'Design & Illustration': 146, 'Solitaire': 147, 'Bikes': 148, 'Split Screen': 149, 'Dynamic Narration': 150, 'Noir': 151, 'Demons': 152, 'Snow': 153, 'Wrestling': 154, 'Spaceships': 155, 'Co-op Campaign': 156, 'Outbreak Sim': 157, 'Pinball': 158, 'Asynchronous Multiplayer': 159, 'Political': 160, 'RTS': 161, \"Beat 'em up\": 162, 'Faith': 163, 'Arcade': 164, 'Rock Music': 165, 'Destruction': 166, 'Mythology': 167, 'Bullet Time': 168, 'Action RTS': 169, 'Collectathon': 170, 'Twin Stick Shooter': 171, 'Retro': 172, 'Cooking': 173, 'Hobby Sim': 174, 'LEGO': 175, 'Submarine': 176, 'Dungeons & Dragons': 177, 'Minigames': 178, 'Mystery': 179, 'Photo Editing': 180, 'Football': 181, 'Atmospheric': 182, '4X': 183, 'Memes': 184, 'Batman': 185, 'Politics': 186, 'Motorbike': 187, 'Real-Time with Pause': 188, 'Football (Soccer)': 189, 'Mouse only': 190, 'Moddable': 191, 'Cycling': 192, 'Gun Customization': 193, 'Sci-fi': 194, 'Linear': 195, 'Cyberpunk': 196, 'Hunting': 197, 'Action RPG': 198, 'Shooter': 199, 'Artificial Intelligence': 200, 'Third Person': 201, 'Walking Simulator': 202, 'Inventory Management': 203, 'Isometric': 204, 'Dating Sim': 205, 'Multiple Endings': 206, 'Gore': 207, 'Time Management': 208, 'Western': 209, 'Building': 210, 'America': 211, 'City Builder': 212, 'Great Soundtrack': 213, 'Emotional': 214, 'Touch-Friendly': 215, 'Surreal': 216, '3D Vision': 217, 'Swordplay': 218, 'Software': 219, 'Conspiracy': 220, 'War': 221, 'Volleyball': 222, 'Turn-Based Strategy': 223, 'Character Action Game': 224, 'JRPG': 225, 'Jet': 226, 'Party': 227, 'Motocross': 228, \"Shoot 'Em Up\": 229, 'Vikings': 230, 'Survival': 231, 'Sequel': 232, 'Top-Down Shooter': 233, 'Steampunk': 234, 'Loot': 235, 'Episodic': 236, 'Massively Multiplayer': 237, 'Bullet Hell': 238, 'Turn-Based Combat': 239, 'Intentionally Awkward Controls': 240, 'Jump Scare': 241, 'Economy': 242, 'Post-apocalyptic': 243, 'Psychedelic': 244, '2.5D': 245, 'Hidden Object': 246, '2D Platformer': 247, 'Modern': 248, 'Grand Strategy': 249, 'Immersive': 250, 'Voxel': 251, 'Trivia': 252, 'Platformer': 253, 'Stealth': 254, 'Game Development': 255, 'Automobile Sim': 256, 'Tabletop': 257, 'Party-Based RPG': 258, 'Precision Platformer': 259, 'Mining': 260, 'PvP': 261, 'Military': 262, 'Sexual Content': 263, 'Dungeon Crawler': 264, 'Vehicular Combat': 265, 'Stylized': 266, 'Nostalgia': 267, 'Team-Based': 268, 'Fishing': 269, 'Rugby': 270, 'Otome': 271, 'Basketball': 272, 'Conversation': 273, 'Hockey': 274, 'Unforgiving': 275, 'Tennis': 276, 'Controller': 277, 'Electronic': 278, 'Runner': 279, 'VR Only': 280, 'Asymmetric VR': 281, 'Villain Protagonist': 282, 'Gambling': 283, 'Physics': 284, 'Family Friendly': 285, 'Gothic': 286, 'Choices Matter': 287, 'Battle Royale': 288, 'Audio Production': 289, 'Thriller': 290, 'Education': 291, 'Cats': 292, 'Space Sim': 293, 'Transportation': 294, 'Soccer': 295, 'Short': 296, 'Spectacle fighter': 297, 'Satire': 298, 'MOBA': 299, 'Rogue-like': 300, 'Competitive': 301, 'LGBTQ+': 302, 'BMX': 303, 'Web Publishing': 304, 'Cartoony': 305, 'Casual': 306, 'Racing': 307, 'Trading Card Game': 308, 'Cartoon': 309, 'Trains': 310, 'Roguevania': 311, 'Early Access': 312, 'VR': 313, 'Base-Building': 314, 'Mini Golf': 315, 'Benchmark': 316, 'Wargame': 317, 'ATV': 318, 'Dog': 319, 'Fox': 320, 'God Game': 321, 'Strategy RPG': 322, 'Addictive': 323, 'Kickstarter': 324, 'Third-Person Shooter': 325, 'Anime': 326, 'Coding': 327, 'Cinematic': 328, 'Animation & Modeling': 329, 'Narrative': 330, 'Cozy': 331, 'Arena Shooter': 332, 'Games Workshop': 333, 'Alternate History': 334, 'Hero Shooter': 335, 'Futuristic': 336, 'Space': 337, '2D Fighter': 338, 'Trading': 339, 'Football (American)': 340, \"1990's\": 341, 'Reboot': 342, '4 Player Local': 343, 'Detective': 344, 'Crafting': 345, 'Local Co-Op': 346, 'Zombies': 347, 'Voice Control': 348, '2D': 349, 'Comic Book': 350, 'Medieval': 351, 'Skating': 352, 'FPS': 353, 'Quick-Time Events': 354, 'Foreign': 355, 'Musou': 356, 'Hex Grid': 357, 'On-Rails Shooter': 358, 'Naval': 359, 'Cricket': 360, 'World War I': 361, 'Horror': 362, 'Hardware': 363, 'Nudity': 364, 'Tile-Matching': 365, 'Movie': 366, 'Adventure': 367, 'Diplomacy': 368, 'Dystopian': 369, 'Idler': 370, 'Underwater': 371, 'Boxing': 372, 'Open World': 373, 'Crowdfunded': 374, 'Investigation': 375, 'Replay Value': 376, 'Psychological Horror': 377, 'Bowling': 378, 'Local Multiplayer': 379, 'Fantasy': 380, 'Assassin': 381, 'Shop Keeper': 382, 'Action-Adventure': 383, '6DOF': 384, 'Action': 385, 'Driving': 386, 'Difficult': 387, 'First-Person': 388, 'Heist': 389, 'Match 3': 390, 'Souls-like': 391, 'Martial Arts': 392, 'Point & Click': 393, 'Simulation': 394, 'Cute': 395, 'Time Travel': 396, 'Character Customization': 397, 'Illuminati': 398, 'Experience': 399, 'Story Rich': 400, 'Strategy': 401, 'Rogue-lite': 402, 'Immersive Sim': 403, 'Political Sim': 404, 'Soundtrack': 405, 'Rome': 406, 'Pool': 407, 'Supernatural': 408, 'Typing': 409, 'Hentai': 410, 'TrackIR': 411, 'Social Deduction': 412, 'Resource Management': 413, 'Historical': 414, 'World War II': 415, 'Turn-Based Tactics': 416, 'Programming': 417, 'Time Attack': 418, '3D Platformer': 419, 'Hacking': 420, 'Farming Sim': 421, 'Transhumanism': 422, 'Music-Based Procedural Generation': 423, 'Classic': 424, 'Word Game': 425, 'Automation': 426, 'Sandbox': 427, 'Rhythm': 428, 'Old School': 429, 'Science': 430, 'Documentary': 431, 'Warhammer 40K': 432, 'Archery': 433, 'Mahjong': 434, 'Beautiful': 435, 'Parkour': 436, 'Job Simulator': 437, 'Tactical': 438, 'Puzzle-Platformer': 439, 'Realistic': 440, 'Indie': 441, 'Combat': 442, 'Tactical RPG': 443, 'Crime': 444, 'RPGMaker': 445, 'Magic': 446, 'Based On A Novel': 447}\n"
     ]
    }
   ],
   "source": [
    "print(tag_dict)"
   ],
   "metadata": {
    "collapsed": false
   }
  },
  {
   "cell_type": "code",
   "execution_count": 16,
   "outputs": [],
   "source": [
    "import json\n",
    "with open(\"tag_dictionary.json\", \"w\", encoding=\"utf-8\") as f:\n",
    "    json.dump(tag_dict, f)"
   ],
   "metadata": {
    "collapsed": false
   }
  },
  {
   "cell_type": "code",
   "execution_count": 17,
   "outputs": [],
   "source": [
    "import numpy as np\n",
    "\n",
    "with open(\"tag_dictionary.json\", \"r\", encoding=\"utf-8\") as f:\n",
    "    tag_dict = json.load(f)\n",
    "\n",
    "def vectorize_str_tags(tags: str):\n",
    "    vec = np.zeros(448)\n",
    "    tags_set = str_tags_to_set(tags)\n",
    "    for tag in tags_set:\n",
    "        vec[tag_dict[tag]]=1\n",
    "    return vec"
   ],
   "metadata": {
    "collapsed": false
   }
  },
  {
   "cell_type": "code",
   "execution_count": 29,
   "outputs": [],
   "source": [
    "from numpy.linalg import norm\n",
    "def cosine_similarity(A : np.ndarray, B : np.ndarray)->float:\n",
    "    all_zeros = not (np.any(A) and np.any(B))\n",
    "    if all_zeros:\n",
    "        return 0.0\n",
    "    return (np.dot(A, B) / (norm(A) * norm(B)))\n",
    "\n",
    "def tags_similarity(tags1 : str, tags2 : str)->float:\n",
    "    vec1 = vectorize_str_tags(tags1)\n",
    "    vec2 = vectorize_str_tags(tags2)\n",
    "    return cosine_similarity(vec1,vec2)\n",
    "\n",
    "def compare_games(id1,id2):\n",
    "    name_1 = df[df['AppID']==id1]['Name'].values[0]\n",
    "    name_2 = df[df['AppID']==id2]['Name'].values[0]\n",
    "    print(f\"Similarity between \\n>>>{name_1} \\nand \\n>>>{name_2}\")\n",
    "    tags1 = df[df['AppID']==id1]['Tags'].values[0]\n",
    "    tags2 = df[df['AppID']==id2]['Tags'].values[0]\n",
    "    print(tags_similarity(tags1,tags2))\n",
    "    print(\"\\n\\n\")"
   ],
   "metadata": {
    "collapsed": false
   }
  },
  {
   "cell_type": "code",
   "execution_count": 30,
   "outputs": [
    {
     "name": "stdout",
     "output_type": "stream",
     "text": [
      "Similarity between \n",
      ">>>Hello Charlotte EP2: Requiem Aeternam Deo \n",
      "and \n",
      ">>>The Witch's House MV\n",
      "0.6499999999999999\n",
      "\n",
      "\n",
      "\n",
      "Similarity between \n",
      ">>>The Witch's House MV \n",
      "and \n",
      ">>>Ib\n",
      "0.7499999999999999\n",
      "\n",
      "\n",
      "\n",
      "Similarity between \n",
      ">>>The Witch's House MV \n",
      "and \n",
      ">>>DARK SOULS™: REMASTERED\n",
      "0.29999999999999993\n",
      "\n",
      "\n",
      "\n",
      "Similarity between \n",
      ">>>DARK SOULS™ II \n",
      "and \n",
      ">>>DARK SOULS™: REMASTERED\n",
      "0.7499999999999999\n",
      "\n",
      "\n",
      "\n",
      "Similarity between \n",
      ">>>DARK SOULS™ III \n",
      "and \n",
      ">>>DARK SOULS™: REMASTERED\n",
      "0.8499999999999999\n",
      "\n",
      "\n",
      "\n",
      "Similarity between \n",
      ">>>SimCity™ 4 Deluxe Edition \n",
      "and \n",
      ">>>DARK SOULS™: REMASTERED\n",
      "0.14999999999999997\n",
      "\n",
      "\n",
      "\n",
      "Similarity between \n",
      ">>>SimCity™ 4 Deluxe Edition \n",
      "and \n",
      ">>>Cities: Skylines\n",
      "0.6499999999999999\n",
      "\n",
      "\n",
      "\n",
      "Similarity between \n",
      ">>>Hello Charlotte EP2: Requiem Aeternam Deo \n",
      "and \n",
      ">>>Cities: Skylines\n",
      "0.04999999999999999\n",
      "\n",
      "\n",
      "\n",
      "Similarity between \n",
      ">>>Cities: Skylines \n",
      "and \n",
      ">>>The Witcher® 3: Wild Hunt\n",
      "0.19999999999999996\n",
      "\n",
      "\n",
      "\n",
      "Similarity between \n",
      ">>>DARK SOULS™ III \n",
      "and \n",
      ">>>The Witcher® 3: Wild Hunt\n",
      "0.5499999999999999\n",
      "\n",
      "\n",
      "\n"
     ]
    }
   ],
   "source": [
    "compare_games(557630, 885810)\n",
    "compare_games(885810, 1901370)\n",
    "\n",
    "compare_games(885810, 570940)\n",
    "compare_games(236430, 570940)\n",
    "compare_games(374320, 570940)\n",
    "\n",
    "compare_games(24780, 570940)\n",
    "compare_games(24780, 255710)\n",
    "\n",
    "compare_games(557630, 255710)\n",
    "\n",
    "compare_games(255710, 292030)\n",
    "compare_games(374320, 292030)"
   ],
   "metadata": {
    "collapsed": false
   }
  },
  {
   "cell_type": "code",
   "execution_count": 31,
   "outputs": [
    {
     "name": "stdout",
     "output_type": "stream",
     "text": [
      "Similarity between \n",
      ">>>GRID Legends \n",
      "and \n",
      ">>>The Witcher® 3: Wild Hunt\n",
      "0.19999999999999996\n",
      "\n",
      "\n",
      "\n",
      "Similarity between \n",
      ">>>GRID Legends \n",
      "and \n",
      ">>>Forza Horizon 5\n",
      "0.5999999999999999\n",
      "\n",
      "\n",
      "\n"
     ]
    }
   ],
   "source": [
    "compare_games(1307710, 292030)\n",
    "compare_games(1307710, 1551360)"
   ],
   "metadata": {
    "collapsed": false
   }
  },
  {
   "cell_type": "code",
   "execution_count": 32,
   "outputs": [
    {
     "name": "stdout",
     "output_type": "stream",
     "text": [
      "Similarity between \n",
      ">>>GRID Legends \n",
      "and \n",
      ">>>F1® 23\n",
      "0.4999999999999999\n",
      "\n",
      "\n",
      "\n"
     ]
    }
   ],
   "source": [
    "compare_games(1307710, 2108330)"
   ],
   "metadata": {
    "collapsed": false
   }
  },
  {
   "cell_type": "code",
   "execution_count": 33,
   "outputs": [
    {
     "name": "stdout",
     "output_type": "stream",
     "text": [
      "Similarity between \n",
      ">>>GRID Legends \n",
      "and \n",
      ">>>Phasmophobia\n",
      "0.14999999999999997\n",
      "\n",
      "\n",
      "\n"
     ]
    }
   ],
   "source": [
    "compare_games(1307710, 739630)"
   ],
   "metadata": {
    "collapsed": false
   }
  },
  {
   "cell_type": "code",
   "execution_count": 34,
   "outputs": [
    {
     "name": "stdout",
     "output_type": "stream",
     "text": [
      "Similarity between \n",
      ">>>Phasmophobia \n",
      "and \n",
      ">>>Outlast\n",
      "0.3499999999999999\n",
      "\n",
      "\n",
      "\n"
     ]
    }
   ],
   "source": [
    "compare_games(739630, 238320)"
   ],
   "metadata": {
    "collapsed": false
   }
  },
  {
   "cell_type": "code",
   "execution_count": 35,
   "outputs": [
    {
     "name": "stdout",
     "output_type": "stream",
     "text": [
      "Similarity between \n",
      ">>>Aliens: Dark Descent \n",
      "and \n",
      ">>>Outlast\n",
      "0.4103913408340616\n",
      "\n",
      "\n",
      "\n"
     ]
    }
   ],
   "source": [
    "compare_games(1150440, 238320)"
   ],
   "metadata": {
    "collapsed": false
   }
  },
  {
   "cell_type": "code",
   "execution_count": 36,
   "outputs": [
    {
     "name": "stdout",
     "output_type": "stream",
     "text": [
      "Similarity between \n",
      ">>>Aliens: Dark Descent \n",
      "and \n",
      ">>>Stardew Valley\n",
      "0.1025978352085154\n",
      "\n",
      "\n",
      "\n"
     ]
    }
   ],
   "source": [
    "compare_games(1150440, 413150)"
   ],
   "metadata": {
    "collapsed": false
   }
  },
  {
   "cell_type": "code",
   "execution_count": 37,
   "outputs": [
    {
     "name": "stdout",
     "output_type": "stream",
     "text": [
      "Similarity between \n",
      ">>>Aliens: Dark Descent \n",
      "and \n",
      ">>>F1® 23\n",
      "0.2051956704170308\n",
      "\n",
      "\n",
      "\n"
     ]
    }
   ],
   "source": [
    "compare_games(1150440, 2108330)"
   ],
   "metadata": {
    "collapsed": false
   }
  },
  {
   "cell_type": "markdown",
   "source": [
    "### Conclusion:\n",
    "\n",
    "Vectorizing games based on their tags results in useful vectors that can be readily compared in order to measure the similarity of items on Steam.\n",
    "\n",
    "Compared to descriptions, multiple games are more likely to have identical tags describing them, so it's likely better to use this as one component of a larger search / recommendation system."
   ],
   "metadata": {
    "collapsed": false
   }
  },
  {
   "cell_type": "code",
   "execution_count": null,
   "outputs": [],
   "source": [],
   "metadata": {
    "collapsed": false
   }
  }
 ],
 "metadata": {
  "kernelspec": {
   "display_name": "Python 3",
   "language": "python",
   "name": "python3"
  },
  "language_info": {
   "codemirror_mode": {
    "name": "ipython",
    "version": 2
   },
   "file_extension": ".py",
   "mimetype": "text/x-python",
   "name": "python",
   "nbconvert_exporter": "python",
   "pygments_lexer": "ipython2",
   "version": "2.7.6"
  }
 },
 "nbformat": 4,
 "nbformat_minor": 0
}
