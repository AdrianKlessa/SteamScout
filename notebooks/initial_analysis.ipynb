{
 "cells": [
  {
   "cell_type": "code",
   "execution_count": 4,
   "metadata": {
    "collapsed": true
   },
   "outputs": [],
   "source": [
    "from pathlib import Path\n",
    "data_dir = Path('../data/raw')\n",
    "csv_path = data_dir / \"games.csv\"\n",
    "json_path = data_dir / \"games.json\""
   ]
  },
  {
   "cell_type": "code",
   "execution_count": 6,
   "outputs": [],
   "source": [
    "import pandas as pd\n",
    "import json\n",
    "\n",
    "df = pd.read_csv(csv_path)\n",
    "\n",
    "with open(json_path, \"r\", encoding=\"utf-8\") as f:\n",
    "    json_dict = json.load(f)"
   ],
   "metadata": {
    "collapsed": false
   }
  },
  {
   "cell_type": "markdown",
   "source": [
    "### Check that the two data formats (json & csv) have the same number of entries"
   ],
   "metadata": {
    "collapsed": false
   }
  },
  {
   "cell_type": "code",
   "execution_count": 7,
   "outputs": [
    {
     "name": "stdout",
     "output_type": "stream",
     "text": [
      "85103\n",
      "85103\n"
     ]
    }
   ],
   "source": [
    "print(len(json_dict))\n",
    "print(len(df.index))"
   ],
   "metadata": {
    "collapsed": false
   }
  },
  {
   "cell_type": "code",
   "execution_count": 10,
   "outputs": [
    {
     "data": {
      "text/plain": "['20200', '655370', '1732930', '1355720', '1139950']"
     },
     "execution_count": 10,
     "metadata": {},
     "output_type": "execute_result"
    }
   ],
   "source": [
    "list(json_dict.keys())[:5]"
   ],
   "metadata": {
    "collapsed": false
   }
  },
  {
   "cell_type": "code",
   "execution_count": 11,
   "outputs": [
    {
     "data": {
      "text/plain": "{'name': 'Galactic Bowling',\n 'release_date': 'Oct 21, 2008',\n 'required_age': 0,\n 'price': 19.99,\n 'dlc_count': 0,\n 'detailed_description': 'Galactic Bowling is an exaggerated and stylized bowling game with an intergalactic twist. Players will engage in fast-paced single and multi-player competition while being submerged in a unique new universe filled with over-the-top humor, wild characters, unique levels, and addictive game play. The title is aimed at players of all ages and skill sets. Through accessible and intuitive controls and game-play, Galactic Bowling allows you to jump right into the action. A single-player campaign and online play allow you to work your way up the ranks of the Galactic Bowling League! Whether you have hours to play or only a few minutes, Galactic Bowling is a fast paced and entertaining experience that will leave you wanting more! Full Single-player story campaign including 11 Characters and Environments. 2 Single-player play modes including Regular and Battle Modes. Head to Head Online Multiplayer play Modes. Super Powers, Special Balls, and Whammies. Unlockable Characters, Environments, and Minigames. Unlock all 30 Steam Achievements! ',\n 'about_the_game': 'Galactic Bowling is an exaggerated and stylized bowling game with an intergalactic twist. Players will engage in fast-paced single and multi-player competition while being submerged in a unique new universe filled with over-the-top humor, wild characters, unique levels, and addictive game play. The title is aimed at players of all ages and skill sets. Through accessible and intuitive controls and game-play, Galactic Bowling allows you to jump right into the action. A single-player campaign and online play allow you to work your way up the ranks of the Galactic Bowling League! Whether you have hours to play or only a few minutes, Galactic Bowling is a fast paced and entertaining experience that will leave you wanting more! Full Single-player story campaign including 11 Characters and Environments. 2 Single-player play modes including Regular and Battle Modes. Head to Head Online Multiplayer play Modes. Super Powers, Special Balls, and Whammies. Unlockable Characters, Environments, and Minigames. Unlock all 30 Steam Achievements! ',\n 'short_description': 'Galactic Bowling is an exaggerated and stylized bowling game with an intergalactic twist. Players will engage in fast-paced single and multi-player competition while being submerged in a unique new universe filled with over-the-top humor, wild characters, unique levels, and addictive game play.',\n 'reviews': '',\n 'header_image': 'https://cdn.akamai.steamstatic.com/steam/apps/20200/header.jpg?t=1640121033',\n 'website': 'http://www.galacticbowling.net',\n 'support_url': '',\n 'support_email': '',\n 'windows': True,\n 'mac': False,\n 'linux': False,\n 'metacritic_score': 0,\n 'metacritic_url': '',\n 'achievements': 30,\n 'recommendations': 0,\n 'notes': '',\n 'supported_languages': ['English'],\n 'full_audio_languages': [],\n 'packages': [{'title': 'Buy Galactic Bowling',\n   'description': '',\n   'subs': [{'text': 'Galactic Bowling - $19.99',\n     'description': '',\n     'price': 19.99}]}],\n 'developers': ['Perpetual FX Creative'],\n 'publishers': ['Perpetual FX Creative'],\n 'categories': ['Single-player',\n  'Multi-player',\n  'Steam Achievements',\n  'Partial Controller Support'],\n 'genres': ['Casual', 'Indie', 'Sports'],\n 'screenshots': ['https://cdn.akamai.steamstatic.com/steam/apps/20200/0000005994.1920x1080.jpg?t=1640121033',\n  'https://cdn.akamai.steamstatic.com/steam/apps/20200/0000005993.1920x1080.jpg?t=1640121033',\n  'https://cdn.akamai.steamstatic.com/steam/apps/20200/0000005992.1920x1080.jpg?t=1640121033',\n  'https://cdn.akamai.steamstatic.com/steam/apps/20200/0000006011.1920x1080.jpg?t=1640121033',\n  'https://cdn.akamai.steamstatic.com/steam/apps/20200/0000005685.1920x1080.jpg?t=1640121033',\n  'https://cdn.akamai.steamstatic.com/steam/apps/20200/0000005686.1920x1080.jpg?t=1640121033',\n  'https://cdn.akamai.steamstatic.com/steam/apps/20200/0000005995.1920x1080.jpg?t=1640121033',\n  'https://cdn.akamai.steamstatic.com/steam/apps/20200/0000005688.1920x1080.jpg?t=1640121033',\n  'https://cdn.akamai.steamstatic.com/steam/apps/20200/0000005689.1920x1080.jpg?t=1640121033',\n  'https://cdn.akamai.steamstatic.com/steam/apps/20200/0000005690.1920x1080.jpg?t=1640121033'],\n 'movies': ['http://cdn.akamai.steamstatic.com/steam/apps/256863704/movie_max.mp4?t=1638854607'],\n 'user_score': 0,\n 'score_rank': '',\n 'positive': 6,\n 'negative': 11,\n 'estimated_owners': '0 - 20000',\n 'average_playtime_forever': 0,\n 'average_playtime_2weeks': 0,\n 'median_playtime_forever': 0,\n 'median_playtime_2weeks': 0,\n 'peak_ccu': 0,\n 'tags': {'Indie': 22, 'Casual': 21, 'Sports': 21, 'Bowling': 6}}"
     },
     "execution_count": 11,
     "metadata": {},
     "output_type": "execute_result"
    }
   ],
   "source": [
    "json_dict[\"20200\"]"
   ],
   "metadata": {
    "collapsed": false
   }
  },
  {
   "cell_type": "code",
   "execution_count": 12,
   "outputs": [
    {
     "name": "stdout",
     "output_type": "stream",
     "text": [
      "<class 'pandas.core.frame.DataFrame'>\n",
      "RangeIndex: 85103 entries, 0 to 85102\n",
      "Data columns (total 39 columns):\n",
      " #   Column                      Non-Null Count  Dtype  \n",
      "---  ------                      --------------  -----  \n",
      " 0   AppID                       85103 non-null  int64  \n",
      " 1   Name                        85097 non-null  object \n",
      " 2   Release date                85103 non-null  object \n",
      " 3   Estimated owners            85103 non-null  object \n",
      " 4   Peak CCU                    85103 non-null  int64  \n",
      " 5   Required age                85103 non-null  int64  \n",
      " 6   Price                       85103 non-null  float64\n",
      " 7   DLC count                   85103 non-null  int64  \n",
      " 8   About the game              81536 non-null  object \n",
      " 9   Supported languages         85103 non-null  object \n",
      " 10  Full audio languages        85103 non-null  object \n",
      " 11  Reviews                     9743 non-null   object \n",
      " 12  Header image                85103 non-null  object \n",
      " 13  Website                     39452 non-null  object \n",
      " 14  Support url                 41586 non-null  object \n",
      " 15  Support email               71507 non-null  object \n",
      " 16  Windows                     85103 non-null  bool   \n",
      " 17  Mac                         85103 non-null  bool   \n",
      " 18  Linux                       85103 non-null  bool   \n",
      " 19  Metacritic score            85103 non-null  int64  \n",
      " 20  Metacritic url              3912 non-null   object \n",
      " 21  User score                  85103 non-null  int64  \n",
      " 22  Positive                    85103 non-null  int64  \n",
      " 23  Negative                    85103 non-null  int64  \n",
      " 24  Score rank                  44 non-null     float64\n",
      " 25  Achievements                85103 non-null  int64  \n",
      " 26  Recommendations             85103 non-null  int64  \n",
      " 27  Notes                       13021 non-null  object \n",
      " 28  Average playtime forever    85103 non-null  int64  \n",
      " 29  Average playtime two weeks  85103 non-null  int64  \n",
      " 30  Median playtime forever     85103 non-null  int64  \n",
      " 31  Median playtime two weeks   85103 non-null  int64  \n",
      " 32  Developers                  81516 non-null  object \n",
      " 33  Publishers                  81236 non-null  object \n",
      " 34  Categories                  80505 non-null  object \n",
      " 35  Genres                      81548 non-null  object \n",
      " 36  Tags                        64003 non-null  object \n",
      " 37  Screenshots                 83097 non-null  object \n",
      " 38  Movies                      78650 non-null  object \n",
      "dtypes: bool(3), float64(2), int64(14), object(20)\n",
      "memory usage: 23.6+ MB\n"
     ]
    }
   ],
   "source": [
    "df.info()"
   ],
   "metadata": {
    "collapsed": false
   }
  },
  {
   "cell_type": "code",
   "execution_count": 13,
   "outputs": [
    {
     "data": {
      "text/plain": "     AppID                   Name  Release date Estimated owners  Peak CCU  \\\n0    20200       Galactic Bowling  Oct 21, 2008        0 - 20000         0   \n1   655370           Train Bandit  Oct 12, 2017        0 - 20000         0   \n2  1732930           Jolt Project  Nov 17, 2021        0 - 20000         0   \n3  1355720               Henosis™  Jul 23, 2020        0 - 20000         0   \n4  1139950  Two Weeks in Painland   Feb 3, 2020        0 - 20000         0   \n\n   Required age  Price  DLC count  \\\n0             0  19.99          0   \n1             0   0.99          0   \n2             0   4.99          0   \n3             0   5.99          0   \n4             0   0.00          0   \n\n                                      About the game  \\\n0  Galactic Bowling is an exaggerated and stylize...   \n1  THE LAW!! Looks to be a showdown atop a train....   \n2  Jolt Project: The army now has a new robotics ...   \n3  HENOSIS™ is a mysterious 2D Platform Puzzler w...   \n4  ABOUT THE GAME Play as a hacker who has arrang...   \n\n                                 Supported languages  ...  \\\n0                                        ['English']  ...   \n1  ['English', 'French', 'Italian', 'German', 'Sp...  ...   \n2                 ['English', 'Portuguese - Brazil']  ...   \n3  ['English', 'French', 'Italian', 'German', 'Sp...  ...   \n4                     ['English', 'Spanish - Spain']  ...   \n\n  Average playtime two weeks Median playtime forever  \\\n0                          0                       0   \n1                          0                       0   \n2                          0                       0   \n3                          0                       0   \n4                          0                       0   \n\n  Median playtime two weeks             Developers             Publishers  \\\n0                         0  Perpetual FX Creative  Perpetual FX Creative   \n1                         0           Rusty Moyher           Wild Rooster   \n2                         0          Campião Games          Campião Games   \n3                         0      Odd Critter Games      Odd Critter Games   \n4                         0          Unusual Games          Unusual Games   \n\n                                          Categories  \\\n0  Single-player,Multi-player,Steam Achievements,...   \n1  Single-player,Steam Achievements,Full controll...   \n2                                      Single-player   \n3              Single-player,Full controller support   \n4                   Single-player,Steam Achievements   \n\n                            Genres  \\\n0              Casual,Indie,Sports   \n1                     Action,Indie   \n2  Action,Adventure,Indie,Strategy   \n3           Adventure,Casual,Indie   \n4                  Adventure,Indie   \n\n                                                Tags  \\\n0                        Indie,Casual,Sports,Bowling   \n1  Indie,Action,Pixel Graphics,2D,Retro,Arcade,Sc...   \n2                                                NaN   \n3  2D Platformer,Atmospheric,Surreal,Mystery,Puzz...   \n4  Indie,Adventure,Nudity,Violent,Sexual Content,...   \n\n                                         Screenshots  \\\n0  https://cdn.akamai.steamstatic.com/steam/apps/...   \n1  https://cdn.akamai.steamstatic.com/steam/apps/...   \n2  https://cdn.akamai.steamstatic.com/steam/apps/...   \n3  https://cdn.akamai.steamstatic.com/steam/apps/...   \n4  https://cdn.akamai.steamstatic.com/steam/apps/...   \n\n                                              Movies  \n0  http://cdn.akamai.steamstatic.com/steam/apps/2...  \n1  http://cdn.akamai.steamstatic.com/steam/apps/2...  \n2  http://cdn.akamai.steamstatic.com/steam/apps/2...  \n3  http://cdn.akamai.steamstatic.com/steam/apps/2...  \n4  http://cdn.akamai.steamstatic.com/steam/apps/2...  \n\n[5 rows x 39 columns]",
      "text/html": "<div>\n<style scoped>\n    .dataframe tbody tr th:only-of-type {\n        vertical-align: middle;\n    }\n\n    .dataframe tbody tr th {\n        vertical-align: top;\n    }\n\n    .dataframe thead th {\n        text-align: right;\n    }\n</style>\n<table border=\"1\" class=\"dataframe\">\n  <thead>\n    <tr style=\"text-align: right;\">\n      <th></th>\n      <th>AppID</th>\n      <th>Name</th>\n      <th>Release date</th>\n      <th>Estimated owners</th>\n      <th>Peak CCU</th>\n      <th>Required age</th>\n      <th>Price</th>\n      <th>DLC count</th>\n      <th>About the game</th>\n      <th>Supported languages</th>\n      <th>...</th>\n      <th>Average playtime two weeks</th>\n      <th>Median playtime forever</th>\n      <th>Median playtime two weeks</th>\n      <th>Developers</th>\n      <th>Publishers</th>\n      <th>Categories</th>\n      <th>Genres</th>\n      <th>Tags</th>\n      <th>Screenshots</th>\n      <th>Movies</th>\n    </tr>\n  </thead>\n  <tbody>\n    <tr>\n      <th>0</th>\n      <td>20200</td>\n      <td>Galactic Bowling</td>\n      <td>Oct 21, 2008</td>\n      <td>0 - 20000</td>\n      <td>0</td>\n      <td>0</td>\n      <td>19.99</td>\n      <td>0</td>\n      <td>Galactic Bowling is an exaggerated and stylize...</td>\n      <td>['English']</td>\n      <td>...</td>\n      <td>0</td>\n      <td>0</td>\n      <td>0</td>\n      <td>Perpetual FX Creative</td>\n      <td>Perpetual FX Creative</td>\n      <td>Single-player,Multi-player,Steam Achievements,...</td>\n      <td>Casual,Indie,Sports</td>\n      <td>Indie,Casual,Sports,Bowling</td>\n      <td>https://cdn.akamai.steamstatic.com/steam/apps/...</td>\n      <td>http://cdn.akamai.steamstatic.com/steam/apps/2...</td>\n    </tr>\n    <tr>\n      <th>1</th>\n      <td>655370</td>\n      <td>Train Bandit</td>\n      <td>Oct 12, 2017</td>\n      <td>0 - 20000</td>\n      <td>0</td>\n      <td>0</td>\n      <td>0.99</td>\n      <td>0</td>\n      <td>THE LAW!! Looks to be a showdown atop a train....</td>\n      <td>['English', 'French', 'Italian', 'German', 'Sp...</td>\n      <td>...</td>\n      <td>0</td>\n      <td>0</td>\n      <td>0</td>\n      <td>Rusty Moyher</td>\n      <td>Wild Rooster</td>\n      <td>Single-player,Steam Achievements,Full controll...</td>\n      <td>Action,Indie</td>\n      <td>Indie,Action,Pixel Graphics,2D,Retro,Arcade,Sc...</td>\n      <td>https://cdn.akamai.steamstatic.com/steam/apps/...</td>\n      <td>http://cdn.akamai.steamstatic.com/steam/apps/2...</td>\n    </tr>\n    <tr>\n      <th>2</th>\n      <td>1732930</td>\n      <td>Jolt Project</td>\n      <td>Nov 17, 2021</td>\n      <td>0 - 20000</td>\n      <td>0</td>\n      <td>0</td>\n      <td>4.99</td>\n      <td>0</td>\n      <td>Jolt Project: The army now has a new robotics ...</td>\n      <td>['English', 'Portuguese - Brazil']</td>\n      <td>...</td>\n      <td>0</td>\n      <td>0</td>\n      <td>0</td>\n      <td>Campião Games</td>\n      <td>Campião Games</td>\n      <td>Single-player</td>\n      <td>Action,Adventure,Indie,Strategy</td>\n      <td>NaN</td>\n      <td>https://cdn.akamai.steamstatic.com/steam/apps/...</td>\n      <td>http://cdn.akamai.steamstatic.com/steam/apps/2...</td>\n    </tr>\n    <tr>\n      <th>3</th>\n      <td>1355720</td>\n      <td>Henosis™</td>\n      <td>Jul 23, 2020</td>\n      <td>0 - 20000</td>\n      <td>0</td>\n      <td>0</td>\n      <td>5.99</td>\n      <td>0</td>\n      <td>HENOSIS™ is a mysterious 2D Platform Puzzler w...</td>\n      <td>['English', 'French', 'Italian', 'German', 'Sp...</td>\n      <td>...</td>\n      <td>0</td>\n      <td>0</td>\n      <td>0</td>\n      <td>Odd Critter Games</td>\n      <td>Odd Critter Games</td>\n      <td>Single-player,Full controller support</td>\n      <td>Adventure,Casual,Indie</td>\n      <td>2D Platformer,Atmospheric,Surreal,Mystery,Puzz...</td>\n      <td>https://cdn.akamai.steamstatic.com/steam/apps/...</td>\n      <td>http://cdn.akamai.steamstatic.com/steam/apps/2...</td>\n    </tr>\n    <tr>\n      <th>4</th>\n      <td>1139950</td>\n      <td>Two Weeks in Painland</td>\n      <td>Feb 3, 2020</td>\n      <td>0 - 20000</td>\n      <td>0</td>\n      <td>0</td>\n      <td>0.00</td>\n      <td>0</td>\n      <td>ABOUT THE GAME Play as a hacker who has arrang...</td>\n      <td>['English', 'Spanish - Spain']</td>\n      <td>...</td>\n      <td>0</td>\n      <td>0</td>\n      <td>0</td>\n      <td>Unusual Games</td>\n      <td>Unusual Games</td>\n      <td>Single-player,Steam Achievements</td>\n      <td>Adventure,Indie</td>\n      <td>Indie,Adventure,Nudity,Violent,Sexual Content,...</td>\n      <td>https://cdn.akamai.steamstatic.com/steam/apps/...</td>\n      <td>http://cdn.akamai.steamstatic.com/steam/apps/2...</td>\n    </tr>\n  </tbody>\n</table>\n<p>5 rows × 39 columns</p>\n</div>"
     },
     "execution_count": 13,
     "metadata": {},
     "output_type": "execute_result"
    }
   ],
   "source": [
    "df.head()"
   ],
   "metadata": {
    "collapsed": false
   }
  },
  {
   "cell_type": "markdown",
   "source": [
    "### Looks like the tags field in the csv is a comma-separated list of tags, with some empty fields showing up as NaN"
   ],
   "metadata": {
    "collapsed": false
   }
  },
  {
   "cell_type": "code",
   "execution_count": 18,
   "outputs": [
    {
     "data": {
      "text/plain": "         AppID                                       Name  Release date  \\\n2      1732930                               Jolt Project  Nov 17, 2021   \n7      1968760         Legend of Rome - The Wrath of Mars   May 5, 2022   \n18     1097880                       Super Naughty Maid 2  Jun 20, 2019   \n29     1177420  邻居大叔/UncleNeighbor:uncle Dating Simulator  Jun 19, 2020   \n43     1056520                             Who We Are Now   May 7, 2019   \n...        ...                                        ...           ...   \n85098  2669080                    Mannerheim's Saloon Car   Jan 2, 2024   \n85099  2736910                                   Beer Run   Jan 3, 2024   \n85100  2743220                       My Friend The Spider   Jan 4, 2024   \n85101  2293130                          Path of Survivors   Jan 8, 2024   \n85102  2738840                            The Night Heist   Jan 5, 2024   \n\n      Estimated owners  Peak CCU  Required age  Price  DLC count  \\\n2            0 - 20000         0             0   4.99          0   \n7            0 - 20000         2             0   9.99          0   \n18           0 - 20000         4             0   9.59          2   \n29           0 - 20000        19             0  13.99          1   \n43           0 - 20000         0             0  14.99          2   \n...                ...       ...           ...    ...        ...   \n85098            0 - 0         0             0   0.00          0   \n85099            0 - 0         0             0   0.00          0   \n85100            0 - 0         0             0   0.00          0   \n85101            0 - 0         0             0   3.99          0   \n85102            0 - 0         0             0   9.99          0   \n\n                                          About the game  \\\n2      Jolt Project: The army now has a new robotics ...   \n7      When the Roman people honored a simple warrior...   \n18     Story Leona, your cute and lewd maid is back f...   \n29     Neighbor Uncle/UncleNeighbor: This is a love s...   \n43     Who We Are Now is a queer, post-apocalyptic vi...   \n...                                                  ...   \n85098  Marshal Mannerheim’s Saloon Car is the train c...   \n85099  Beer Run is an Indie game created to steal bee...   \n85100  A small 'horror' narrative game about isolatio...   \n85101  Path of Survivors is a multi-class auto-battle...   \n85102  Meet Mariah, Maria, and Missy a group of colle...   \n\n                                     Supported languages  ...  \\\n2                     ['English', 'Portuguese - Brazil']  ...   \n7                                  ['English', 'German']  ...   \n18                    ['English', 'Traditional Chinese']  ...   \n29     ['Simplified Chinese', 'English', 'Portuguese ...  ...   \n43                                           ['English']  ...   \n...                                                  ...  ...   \n85098                             ['English', 'Finnish']  ...   \n85099                                        ['English']  ...   \n85100                                        ['English']  ...   \n85101                                        ['English']  ...   \n85102                                        ['English']  ...   \n\n      Average playtime two weeks Median playtime forever  \\\n2                              0                       0   \n7                              0                       0   \n18                             0                      30   \n29                             0                       0   \n43                             0                       0   \n...                          ...                     ...   \n85098                          0                       0   \n85099                          0                       0   \n85100                          0                       0   \n85101                          0                       0   \n85102                          0                       0   \n\n      Median playtime two weeks          Developers  \\\n2                             0       Campião Games   \n7                             0          magnussoft   \n18                            0            KENZsoft   \n29                            0           GameUncle   \n43                            0  Chroma Field Games   \n...                         ...                 ...   \n85098                         0   Xamk Game Studios   \n85099                         0           955 Games   \n85100                         0                 MCA   \n85101                         0       Limited Input   \n85102                         0        Ladell Parks   \n\n                                        Publishers  \\\n2                                    Campião Games   \n7                                       magnussoft   \n18                                       Denpasoft   \n29                                       GameUncle   \n43                              Chroma Field Games   \n...                                            ...   \n85098  Sodan ja rauhan keskus Muisti, Päämajamuseo   \n85099                                    955 Games   \n85100                                          MCA   \n85101                                Limited Input   \n85102                                 Ladell Parks   \n\n                                              Categories  \\\n2                                          Single-player   \n7                              Single-player,Steam Cloud   \n18                     Single-player,Steam Trading Cards   \n29                      Single-player,Steam Achievements   \n43                                         Single-player   \n...                                                  ...   \n85098   Single-player,Tracked Controller Support,VR Only   \n85099                                      Single-player   \n85100                                      Single-player   \n85101  Single-player,Steam Achievements,Partial Contr...   \n85102  Single-player,Steam Achievements,Full controll...   \n\n                                      Genres  Tags  \\\n2            Action,Adventure,Indie,Strategy   NaN   \n7                                     Casual   NaN   \n18                              Casual,Indie   NaN   \n29     Adventure,Casual,Indie,RPG,Simulation   NaN   \n43                                     Indie   NaN   \n...                                      ...   ...   \n85098                   Adventure,Simulation   NaN   \n85099                           Casual,Indie   NaN   \n85100                   Adventure,Simulation   NaN   \n85101     Action,Casual,Indie,RPG,Simulation   NaN   \n85102                           Casual,Indie   NaN   \n\n                                             Screenshots  \\\n2      https://cdn.akamai.steamstatic.com/steam/apps/...   \n7      https://cdn.akamai.steamstatic.com/steam/apps/...   \n18     https://cdn.akamai.steamstatic.com/steam/apps/...   \n29     https://cdn.akamai.steamstatic.com/steam/apps/...   \n43     https://cdn.akamai.steamstatic.com/steam/apps/...   \n...                                                  ...   \n85098  https://cdn.akamai.steamstatic.com/steam/apps/...   \n85099  https://cdn.akamai.steamstatic.com/steam/apps/...   \n85100  https://cdn.akamai.steamstatic.com/steam/apps/...   \n85101  https://cdn.akamai.steamstatic.com/steam/apps/...   \n85102  https://cdn.akamai.steamstatic.com/steam/apps/...   \n\n                                                  Movies  \n2      http://cdn.akamai.steamstatic.com/steam/apps/2...  \n7      http://cdn.akamai.steamstatic.com/steam/apps/2...  \n18     http://cdn.akamai.steamstatic.com/steam/apps/2...  \n29     http://cdn.akamai.steamstatic.com/steam/apps/2...  \n43     http://cdn.akamai.steamstatic.com/steam/apps/2...  \n...                                                  ...  \n85098  http://cdn.akamai.steamstatic.com/steam/apps/2...  \n85099  http://cdn.akamai.steamstatic.com/steam/apps/2...  \n85100  http://cdn.akamai.steamstatic.com/steam/apps/2...  \n85101  http://cdn.akamai.steamstatic.com/steam/apps/2...  \n85102  http://cdn.akamai.steamstatic.com/steam/apps/2...  \n\n[21100 rows x 39 columns]",
      "text/html": "<div>\n<style scoped>\n    .dataframe tbody tr th:only-of-type {\n        vertical-align: middle;\n    }\n\n    .dataframe tbody tr th {\n        vertical-align: top;\n    }\n\n    .dataframe thead th {\n        text-align: right;\n    }\n</style>\n<table border=\"1\" class=\"dataframe\">\n  <thead>\n    <tr style=\"text-align: right;\">\n      <th></th>\n      <th>AppID</th>\n      <th>Name</th>\n      <th>Release date</th>\n      <th>Estimated owners</th>\n      <th>Peak CCU</th>\n      <th>Required age</th>\n      <th>Price</th>\n      <th>DLC count</th>\n      <th>About the game</th>\n      <th>Supported languages</th>\n      <th>...</th>\n      <th>Average playtime two weeks</th>\n      <th>Median playtime forever</th>\n      <th>Median playtime two weeks</th>\n      <th>Developers</th>\n      <th>Publishers</th>\n      <th>Categories</th>\n      <th>Genres</th>\n      <th>Tags</th>\n      <th>Screenshots</th>\n      <th>Movies</th>\n    </tr>\n  </thead>\n  <tbody>\n    <tr>\n      <th>2</th>\n      <td>1732930</td>\n      <td>Jolt Project</td>\n      <td>Nov 17, 2021</td>\n      <td>0 - 20000</td>\n      <td>0</td>\n      <td>0</td>\n      <td>4.99</td>\n      <td>0</td>\n      <td>Jolt Project: The army now has a new robotics ...</td>\n      <td>['English', 'Portuguese - Brazil']</td>\n      <td>...</td>\n      <td>0</td>\n      <td>0</td>\n      <td>0</td>\n      <td>Campião Games</td>\n      <td>Campião Games</td>\n      <td>Single-player</td>\n      <td>Action,Adventure,Indie,Strategy</td>\n      <td>NaN</td>\n      <td>https://cdn.akamai.steamstatic.com/steam/apps/...</td>\n      <td>http://cdn.akamai.steamstatic.com/steam/apps/2...</td>\n    </tr>\n    <tr>\n      <th>7</th>\n      <td>1968760</td>\n      <td>Legend of Rome - The Wrath of Mars</td>\n      <td>May 5, 2022</td>\n      <td>0 - 20000</td>\n      <td>2</td>\n      <td>0</td>\n      <td>9.99</td>\n      <td>0</td>\n      <td>When the Roman people honored a simple warrior...</td>\n      <td>['English', 'German']</td>\n      <td>...</td>\n      <td>0</td>\n      <td>0</td>\n      <td>0</td>\n      <td>magnussoft</td>\n      <td>magnussoft</td>\n      <td>Single-player,Steam Cloud</td>\n      <td>Casual</td>\n      <td>NaN</td>\n      <td>https://cdn.akamai.steamstatic.com/steam/apps/...</td>\n      <td>http://cdn.akamai.steamstatic.com/steam/apps/2...</td>\n    </tr>\n    <tr>\n      <th>18</th>\n      <td>1097880</td>\n      <td>Super Naughty Maid 2</td>\n      <td>Jun 20, 2019</td>\n      <td>0 - 20000</td>\n      <td>4</td>\n      <td>0</td>\n      <td>9.59</td>\n      <td>2</td>\n      <td>Story Leona, your cute and lewd maid is back f...</td>\n      <td>['English', 'Traditional Chinese']</td>\n      <td>...</td>\n      <td>0</td>\n      <td>30</td>\n      <td>0</td>\n      <td>KENZsoft</td>\n      <td>Denpasoft</td>\n      <td>Single-player,Steam Trading Cards</td>\n      <td>Casual,Indie</td>\n      <td>NaN</td>\n      <td>https://cdn.akamai.steamstatic.com/steam/apps/...</td>\n      <td>http://cdn.akamai.steamstatic.com/steam/apps/2...</td>\n    </tr>\n    <tr>\n      <th>29</th>\n      <td>1177420</td>\n      <td>邻居大叔/UncleNeighbor:uncle Dating Simulator</td>\n      <td>Jun 19, 2020</td>\n      <td>0 - 20000</td>\n      <td>19</td>\n      <td>0</td>\n      <td>13.99</td>\n      <td>1</td>\n      <td>Neighbor Uncle/UncleNeighbor: This is a love s...</td>\n      <td>['Simplified Chinese', 'English', 'Portuguese ...</td>\n      <td>...</td>\n      <td>0</td>\n      <td>0</td>\n      <td>0</td>\n      <td>GameUncle</td>\n      <td>GameUncle</td>\n      <td>Single-player,Steam Achievements</td>\n      <td>Adventure,Casual,Indie,RPG,Simulation</td>\n      <td>NaN</td>\n      <td>https://cdn.akamai.steamstatic.com/steam/apps/...</td>\n      <td>http://cdn.akamai.steamstatic.com/steam/apps/2...</td>\n    </tr>\n    <tr>\n      <th>43</th>\n      <td>1056520</td>\n      <td>Who We Are Now</td>\n      <td>May 7, 2019</td>\n      <td>0 - 20000</td>\n      <td>0</td>\n      <td>0</td>\n      <td>14.99</td>\n      <td>2</td>\n      <td>Who We Are Now is a queer, post-apocalyptic vi...</td>\n      <td>['English']</td>\n      <td>...</td>\n      <td>0</td>\n      <td>0</td>\n      <td>0</td>\n      <td>Chroma Field Games</td>\n      <td>Chroma Field Games</td>\n      <td>Single-player</td>\n      <td>Indie</td>\n      <td>NaN</td>\n      <td>https://cdn.akamai.steamstatic.com/steam/apps/...</td>\n      <td>http://cdn.akamai.steamstatic.com/steam/apps/2...</td>\n    </tr>\n    <tr>\n      <th>...</th>\n      <td>...</td>\n      <td>...</td>\n      <td>...</td>\n      <td>...</td>\n      <td>...</td>\n      <td>...</td>\n      <td>...</td>\n      <td>...</td>\n      <td>...</td>\n      <td>...</td>\n      <td>...</td>\n      <td>...</td>\n      <td>...</td>\n      <td>...</td>\n      <td>...</td>\n      <td>...</td>\n      <td>...</td>\n      <td>...</td>\n      <td>...</td>\n      <td>...</td>\n      <td>...</td>\n    </tr>\n    <tr>\n      <th>85098</th>\n      <td>2669080</td>\n      <td>Mannerheim's Saloon Car</td>\n      <td>Jan 2, 2024</td>\n      <td>0 - 0</td>\n      <td>0</td>\n      <td>0</td>\n      <td>0.00</td>\n      <td>0</td>\n      <td>Marshal Mannerheim’s Saloon Car is the train c...</td>\n      <td>['English', 'Finnish']</td>\n      <td>...</td>\n      <td>0</td>\n      <td>0</td>\n      <td>0</td>\n      <td>Xamk Game Studios</td>\n      <td>Sodan ja rauhan keskus Muisti, Päämajamuseo</td>\n      <td>Single-player,Tracked Controller Support,VR Only</td>\n      <td>Adventure,Simulation</td>\n      <td>NaN</td>\n      <td>https://cdn.akamai.steamstatic.com/steam/apps/...</td>\n      <td>http://cdn.akamai.steamstatic.com/steam/apps/2...</td>\n    </tr>\n    <tr>\n      <th>85099</th>\n      <td>2736910</td>\n      <td>Beer Run</td>\n      <td>Jan 3, 2024</td>\n      <td>0 - 0</td>\n      <td>0</td>\n      <td>0</td>\n      <td>0.00</td>\n      <td>0</td>\n      <td>Beer Run is an Indie game created to steal bee...</td>\n      <td>['English']</td>\n      <td>...</td>\n      <td>0</td>\n      <td>0</td>\n      <td>0</td>\n      <td>955 Games</td>\n      <td>955 Games</td>\n      <td>Single-player</td>\n      <td>Casual,Indie</td>\n      <td>NaN</td>\n      <td>https://cdn.akamai.steamstatic.com/steam/apps/...</td>\n      <td>http://cdn.akamai.steamstatic.com/steam/apps/2...</td>\n    </tr>\n    <tr>\n      <th>85100</th>\n      <td>2743220</td>\n      <td>My Friend The Spider</td>\n      <td>Jan 4, 2024</td>\n      <td>0 - 0</td>\n      <td>0</td>\n      <td>0</td>\n      <td>0.00</td>\n      <td>0</td>\n      <td>A small 'horror' narrative game about isolatio...</td>\n      <td>['English']</td>\n      <td>...</td>\n      <td>0</td>\n      <td>0</td>\n      <td>0</td>\n      <td>MCA</td>\n      <td>MCA</td>\n      <td>Single-player</td>\n      <td>Adventure,Simulation</td>\n      <td>NaN</td>\n      <td>https://cdn.akamai.steamstatic.com/steam/apps/...</td>\n      <td>http://cdn.akamai.steamstatic.com/steam/apps/2...</td>\n    </tr>\n    <tr>\n      <th>85101</th>\n      <td>2293130</td>\n      <td>Path of Survivors</td>\n      <td>Jan 8, 2024</td>\n      <td>0 - 0</td>\n      <td>0</td>\n      <td>0</td>\n      <td>3.99</td>\n      <td>0</td>\n      <td>Path of Survivors is a multi-class auto-battle...</td>\n      <td>['English']</td>\n      <td>...</td>\n      <td>0</td>\n      <td>0</td>\n      <td>0</td>\n      <td>Limited Input</td>\n      <td>Limited Input</td>\n      <td>Single-player,Steam Achievements,Partial Contr...</td>\n      <td>Action,Casual,Indie,RPG,Simulation</td>\n      <td>NaN</td>\n      <td>https://cdn.akamai.steamstatic.com/steam/apps/...</td>\n      <td>http://cdn.akamai.steamstatic.com/steam/apps/2...</td>\n    </tr>\n    <tr>\n      <th>85102</th>\n      <td>2738840</td>\n      <td>The Night Heist</td>\n      <td>Jan 5, 2024</td>\n      <td>0 - 0</td>\n      <td>0</td>\n      <td>0</td>\n      <td>9.99</td>\n      <td>0</td>\n      <td>Meet Mariah, Maria, and Missy a group of colle...</td>\n      <td>['English']</td>\n      <td>...</td>\n      <td>0</td>\n      <td>0</td>\n      <td>0</td>\n      <td>Ladell Parks</td>\n      <td>Ladell Parks</td>\n      <td>Single-player,Steam Achievements,Full controll...</td>\n      <td>Casual,Indie</td>\n      <td>NaN</td>\n      <td>https://cdn.akamai.steamstatic.com/steam/apps/...</td>\n      <td>http://cdn.akamai.steamstatic.com/steam/apps/2...</td>\n    </tr>\n  </tbody>\n</table>\n<p>21100 rows × 39 columns</p>\n</div>"
     },
     "execution_count": 18,
     "metadata": {},
     "output_type": "execute_result"
    }
   ],
   "source": [
    "df[df['Tags'].isnull()]"
   ],
   "metadata": {
    "collapsed": false
   }
  },
  {
   "cell_type": "markdown",
   "source": [
    "### There are quite a few games with non-English store descriptions, mostly Chinese"
   ],
   "metadata": {
    "collapsed": false
   }
  },
  {
   "cell_type": "code",
   "execution_count": 22,
   "outputs": [
    {
     "name": "stdout",
     "output_type": "stream",
     "text": [
      "['English', 'French']\n"
     ]
    },
    {
     "data": {
      "text/plain": "str"
     },
     "execution_count": 22,
     "metadata": {},
     "output_type": "execute_result"
    }
   ],
   "source": [
    "print(df.loc[3424][\"Supported languages\"])\n",
    "type(df.loc[3424][\"Supported languages\"])"
   ],
   "metadata": {
    "collapsed": false
   }
  },
  {
   "cell_type": "markdown",
   "source": [
    "### Trying to find the games that have an English description for later text embedding training:"
   ],
   "metadata": {
    "collapsed": false
   }
  },
  {
   "cell_type": "code",
   "execution_count": 23,
   "outputs": [
    {
     "data": {
      "text/plain": "         AppID                     Name  Release date Estimated owners  \\\n0        20200         Galactic Bowling  Oct 21, 2008        0 - 20000   \n1       655370             Train Bandit  Oct 12, 2017        0 - 20000   \n2      1732930             Jolt Project  Nov 17, 2021        0 - 20000   \n3      1355720                 Henosis™  Jul 23, 2020        0 - 20000   \n4      1139950    Two Weeks in Painland   Feb 3, 2020        0 - 20000   \n...        ...                      ...           ...              ...   \n85098  2669080  Mannerheim's Saloon Car   Jan 2, 2024            0 - 0   \n85099  2736910                 Beer Run   Jan 3, 2024            0 - 0   \n85100  2743220     My Friend The Spider   Jan 4, 2024            0 - 0   \n85101  2293130        Path of Survivors   Jan 8, 2024            0 - 0   \n85102  2738840          The Night Heist   Jan 5, 2024            0 - 0   \n\n       Peak CCU  Required age  Price  DLC count  \\\n0             0             0  19.99          0   \n1             0             0   0.99          0   \n2             0             0   4.99          0   \n3             0             0   5.99          0   \n4             0             0   0.00          0   \n...         ...           ...    ...        ...   \n85098         0             0   0.00          0   \n85099         0             0   0.00          0   \n85100         0             0   0.00          0   \n85101         0             0   3.99          0   \n85102         0             0   9.99          0   \n\n                                          About the game  \\\n0      Galactic Bowling is an exaggerated and stylize...   \n1      THE LAW!! Looks to be a showdown atop a train....   \n2      Jolt Project: The army now has a new robotics ...   \n3      HENOSIS™ is a mysterious 2D Platform Puzzler w...   \n4      ABOUT THE GAME Play as a hacker who has arrang...   \n...                                                  ...   \n85098  Marshal Mannerheim’s Saloon Car is the train c...   \n85099  Beer Run is an Indie game created to steal bee...   \n85100  A small 'horror' narrative game about isolatio...   \n85101  Path of Survivors is a multi-class auto-battle...   \n85102  Meet Mariah, Maria, and Missy a group of colle...   \n\n                                     Supported languages  ...  \\\n0                                            ['English']  ...   \n1      ['English', 'French', 'Italian', 'German', 'Sp...  ...   \n2                     ['English', 'Portuguese - Brazil']  ...   \n3      ['English', 'French', 'Italian', 'German', 'Sp...  ...   \n4                         ['English', 'Spanish - Spain']  ...   \n...                                                  ...  ...   \n85098                             ['English', 'Finnish']  ...   \n85099                                        ['English']  ...   \n85100                                        ['English']  ...   \n85101                                        ['English']  ...   \n85102                                        ['English']  ...   \n\n      Average playtime two weeks Median playtime forever  \\\n0                              0                       0   \n1                              0                       0   \n2                              0                       0   \n3                              0                       0   \n4                              0                       0   \n...                          ...                     ...   \n85098                          0                       0   \n85099                          0                       0   \n85100                          0                       0   \n85101                          0                       0   \n85102                          0                       0   \n\n      Median playtime two weeks             Developers  \\\n0                             0  Perpetual FX Creative   \n1                             0           Rusty Moyher   \n2                             0          Campião Games   \n3                             0      Odd Critter Games   \n4                             0          Unusual Games   \n...                         ...                    ...   \n85098                         0      Xamk Game Studios   \n85099                         0              955 Games   \n85100                         0                    MCA   \n85101                         0          Limited Input   \n85102                         0           Ladell Parks   \n\n                                        Publishers  \\\n0                            Perpetual FX Creative   \n1                                     Wild Rooster   \n2                                    Campião Games   \n3                                Odd Critter Games   \n4                                    Unusual Games   \n...                                            ...   \n85098  Sodan ja rauhan keskus Muisti, Päämajamuseo   \n85099                                    955 Games   \n85100                                          MCA   \n85101                                Limited Input   \n85102                                 Ladell Parks   \n\n                                              Categories  \\\n0      Single-player,Multi-player,Steam Achievements,...   \n1      Single-player,Steam Achievements,Full controll...   \n2                                          Single-player   \n3                  Single-player,Full controller support   \n4                       Single-player,Steam Achievements   \n...                                                  ...   \n85098   Single-player,Tracked Controller Support,VR Only   \n85099                                      Single-player   \n85100                                      Single-player   \n85101  Single-player,Steam Achievements,Partial Contr...   \n85102  Single-player,Steam Achievements,Full controll...   \n\n                                   Genres  \\\n0                     Casual,Indie,Sports   \n1                            Action,Indie   \n2         Action,Adventure,Indie,Strategy   \n3                  Adventure,Casual,Indie   \n4                         Adventure,Indie   \n...                                   ...   \n85098                Adventure,Simulation   \n85099                        Casual,Indie   \n85100                Adventure,Simulation   \n85101  Action,Casual,Indie,RPG,Simulation   \n85102                        Casual,Indie   \n\n                                                    Tags  \\\n0                            Indie,Casual,Sports,Bowling   \n1      Indie,Action,Pixel Graphics,2D,Retro,Arcade,Sc...   \n2                                                    NaN   \n3      2D Platformer,Atmospheric,Surreal,Mystery,Puzz...   \n4      Indie,Adventure,Nudity,Violent,Sexual Content,...   \n...                                                  ...   \n85098                                                NaN   \n85099                                                NaN   \n85100                                                NaN   \n85101                                                NaN   \n85102                                                NaN   \n\n                                             Screenshots  \\\n0      https://cdn.akamai.steamstatic.com/steam/apps/...   \n1      https://cdn.akamai.steamstatic.com/steam/apps/...   \n2      https://cdn.akamai.steamstatic.com/steam/apps/...   \n3      https://cdn.akamai.steamstatic.com/steam/apps/...   \n4      https://cdn.akamai.steamstatic.com/steam/apps/...   \n...                                                  ...   \n85098  https://cdn.akamai.steamstatic.com/steam/apps/...   \n85099  https://cdn.akamai.steamstatic.com/steam/apps/...   \n85100  https://cdn.akamai.steamstatic.com/steam/apps/...   \n85101  https://cdn.akamai.steamstatic.com/steam/apps/...   \n85102  https://cdn.akamai.steamstatic.com/steam/apps/...   \n\n                                                  Movies  \n0      http://cdn.akamai.steamstatic.com/steam/apps/2...  \n1      http://cdn.akamai.steamstatic.com/steam/apps/2...  \n2      http://cdn.akamai.steamstatic.com/steam/apps/2...  \n3      http://cdn.akamai.steamstatic.com/steam/apps/2...  \n4      http://cdn.akamai.steamstatic.com/steam/apps/2...  \n...                                                  ...  \n85098  http://cdn.akamai.steamstatic.com/steam/apps/2...  \n85099  http://cdn.akamai.steamstatic.com/steam/apps/2...  \n85100  http://cdn.akamai.steamstatic.com/steam/apps/2...  \n85101  http://cdn.akamai.steamstatic.com/steam/apps/2...  \n85102  http://cdn.akamai.steamstatic.com/steam/apps/2...  \n\n[78068 rows x 39 columns]",
      "text/html": "<div>\n<style scoped>\n    .dataframe tbody tr th:only-of-type {\n        vertical-align: middle;\n    }\n\n    .dataframe tbody tr th {\n        vertical-align: top;\n    }\n\n    .dataframe thead th {\n        text-align: right;\n    }\n</style>\n<table border=\"1\" class=\"dataframe\">\n  <thead>\n    <tr style=\"text-align: right;\">\n      <th></th>\n      <th>AppID</th>\n      <th>Name</th>\n      <th>Release date</th>\n      <th>Estimated owners</th>\n      <th>Peak CCU</th>\n      <th>Required age</th>\n      <th>Price</th>\n      <th>DLC count</th>\n      <th>About the game</th>\n      <th>Supported languages</th>\n      <th>...</th>\n      <th>Average playtime two weeks</th>\n      <th>Median playtime forever</th>\n      <th>Median playtime two weeks</th>\n      <th>Developers</th>\n      <th>Publishers</th>\n      <th>Categories</th>\n      <th>Genres</th>\n      <th>Tags</th>\n      <th>Screenshots</th>\n      <th>Movies</th>\n    </tr>\n  </thead>\n  <tbody>\n    <tr>\n      <th>0</th>\n      <td>20200</td>\n      <td>Galactic Bowling</td>\n      <td>Oct 21, 2008</td>\n      <td>0 - 20000</td>\n      <td>0</td>\n      <td>0</td>\n      <td>19.99</td>\n      <td>0</td>\n      <td>Galactic Bowling is an exaggerated and stylize...</td>\n      <td>['English']</td>\n      <td>...</td>\n      <td>0</td>\n      <td>0</td>\n      <td>0</td>\n      <td>Perpetual FX Creative</td>\n      <td>Perpetual FX Creative</td>\n      <td>Single-player,Multi-player,Steam Achievements,...</td>\n      <td>Casual,Indie,Sports</td>\n      <td>Indie,Casual,Sports,Bowling</td>\n      <td>https://cdn.akamai.steamstatic.com/steam/apps/...</td>\n      <td>http://cdn.akamai.steamstatic.com/steam/apps/2...</td>\n    </tr>\n    <tr>\n      <th>1</th>\n      <td>655370</td>\n      <td>Train Bandit</td>\n      <td>Oct 12, 2017</td>\n      <td>0 - 20000</td>\n      <td>0</td>\n      <td>0</td>\n      <td>0.99</td>\n      <td>0</td>\n      <td>THE LAW!! Looks to be a showdown atop a train....</td>\n      <td>['English', 'French', 'Italian', 'German', 'Sp...</td>\n      <td>...</td>\n      <td>0</td>\n      <td>0</td>\n      <td>0</td>\n      <td>Rusty Moyher</td>\n      <td>Wild Rooster</td>\n      <td>Single-player,Steam Achievements,Full controll...</td>\n      <td>Action,Indie</td>\n      <td>Indie,Action,Pixel Graphics,2D,Retro,Arcade,Sc...</td>\n      <td>https://cdn.akamai.steamstatic.com/steam/apps/...</td>\n      <td>http://cdn.akamai.steamstatic.com/steam/apps/2...</td>\n    </tr>\n    <tr>\n      <th>2</th>\n      <td>1732930</td>\n      <td>Jolt Project</td>\n      <td>Nov 17, 2021</td>\n      <td>0 - 20000</td>\n      <td>0</td>\n      <td>0</td>\n      <td>4.99</td>\n      <td>0</td>\n      <td>Jolt Project: The army now has a new robotics ...</td>\n      <td>['English', 'Portuguese - Brazil']</td>\n      <td>...</td>\n      <td>0</td>\n      <td>0</td>\n      <td>0</td>\n      <td>Campião Games</td>\n      <td>Campião Games</td>\n      <td>Single-player</td>\n      <td>Action,Adventure,Indie,Strategy</td>\n      <td>NaN</td>\n      <td>https://cdn.akamai.steamstatic.com/steam/apps/...</td>\n      <td>http://cdn.akamai.steamstatic.com/steam/apps/2...</td>\n    </tr>\n    <tr>\n      <th>3</th>\n      <td>1355720</td>\n      <td>Henosis™</td>\n      <td>Jul 23, 2020</td>\n      <td>0 - 20000</td>\n      <td>0</td>\n      <td>0</td>\n      <td>5.99</td>\n      <td>0</td>\n      <td>HENOSIS™ is a mysterious 2D Platform Puzzler w...</td>\n      <td>['English', 'French', 'Italian', 'German', 'Sp...</td>\n      <td>...</td>\n      <td>0</td>\n      <td>0</td>\n      <td>0</td>\n      <td>Odd Critter Games</td>\n      <td>Odd Critter Games</td>\n      <td>Single-player,Full controller support</td>\n      <td>Adventure,Casual,Indie</td>\n      <td>2D Platformer,Atmospheric,Surreal,Mystery,Puzz...</td>\n      <td>https://cdn.akamai.steamstatic.com/steam/apps/...</td>\n      <td>http://cdn.akamai.steamstatic.com/steam/apps/2...</td>\n    </tr>\n    <tr>\n      <th>4</th>\n      <td>1139950</td>\n      <td>Two Weeks in Painland</td>\n      <td>Feb 3, 2020</td>\n      <td>0 - 20000</td>\n      <td>0</td>\n      <td>0</td>\n      <td>0.00</td>\n      <td>0</td>\n      <td>ABOUT THE GAME Play as a hacker who has arrang...</td>\n      <td>['English', 'Spanish - Spain']</td>\n      <td>...</td>\n      <td>0</td>\n      <td>0</td>\n      <td>0</td>\n      <td>Unusual Games</td>\n      <td>Unusual Games</td>\n      <td>Single-player,Steam Achievements</td>\n      <td>Adventure,Indie</td>\n      <td>Indie,Adventure,Nudity,Violent,Sexual Content,...</td>\n      <td>https://cdn.akamai.steamstatic.com/steam/apps/...</td>\n      <td>http://cdn.akamai.steamstatic.com/steam/apps/2...</td>\n    </tr>\n    <tr>\n      <th>...</th>\n      <td>...</td>\n      <td>...</td>\n      <td>...</td>\n      <td>...</td>\n      <td>...</td>\n      <td>...</td>\n      <td>...</td>\n      <td>...</td>\n      <td>...</td>\n      <td>...</td>\n      <td>...</td>\n      <td>...</td>\n      <td>...</td>\n      <td>...</td>\n      <td>...</td>\n      <td>...</td>\n      <td>...</td>\n      <td>...</td>\n      <td>...</td>\n      <td>...</td>\n      <td>...</td>\n    </tr>\n    <tr>\n      <th>85098</th>\n      <td>2669080</td>\n      <td>Mannerheim's Saloon Car</td>\n      <td>Jan 2, 2024</td>\n      <td>0 - 0</td>\n      <td>0</td>\n      <td>0</td>\n      <td>0.00</td>\n      <td>0</td>\n      <td>Marshal Mannerheim’s Saloon Car is the train c...</td>\n      <td>['English', 'Finnish']</td>\n      <td>...</td>\n      <td>0</td>\n      <td>0</td>\n      <td>0</td>\n      <td>Xamk Game Studios</td>\n      <td>Sodan ja rauhan keskus Muisti, Päämajamuseo</td>\n      <td>Single-player,Tracked Controller Support,VR Only</td>\n      <td>Adventure,Simulation</td>\n      <td>NaN</td>\n      <td>https://cdn.akamai.steamstatic.com/steam/apps/...</td>\n      <td>http://cdn.akamai.steamstatic.com/steam/apps/2...</td>\n    </tr>\n    <tr>\n      <th>85099</th>\n      <td>2736910</td>\n      <td>Beer Run</td>\n      <td>Jan 3, 2024</td>\n      <td>0 - 0</td>\n      <td>0</td>\n      <td>0</td>\n      <td>0.00</td>\n      <td>0</td>\n      <td>Beer Run is an Indie game created to steal bee...</td>\n      <td>['English']</td>\n      <td>...</td>\n      <td>0</td>\n      <td>0</td>\n      <td>0</td>\n      <td>955 Games</td>\n      <td>955 Games</td>\n      <td>Single-player</td>\n      <td>Casual,Indie</td>\n      <td>NaN</td>\n      <td>https://cdn.akamai.steamstatic.com/steam/apps/...</td>\n      <td>http://cdn.akamai.steamstatic.com/steam/apps/2...</td>\n    </tr>\n    <tr>\n      <th>85100</th>\n      <td>2743220</td>\n      <td>My Friend The Spider</td>\n      <td>Jan 4, 2024</td>\n      <td>0 - 0</td>\n      <td>0</td>\n      <td>0</td>\n      <td>0.00</td>\n      <td>0</td>\n      <td>A small 'horror' narrative game about isolatio...</td>\n      <td>['English']</td>\n      <td>...</td>\n      <td>0</td>\n      <td>0</td>\n      <td>0</td>\n      <td>MCA</td>\n      <td>MCA</td>\n      <td>Single-player</td>\n      <td>Adventure,Simulation</td>\n      <td>NaN</td>\n      <td>https://cdn.akamai.steamstatic.com/steam/apps/...</td>\n      <td>http://cdn.akamai.steamstatic.com/steam/apps/2...</td>\n    </tr>\n    <tr>\n      <th>85101</th>\n      <td>2293130</td>\n      <td>Path of Survivors</td>\n      <td>Jan 8, 2024</td>\n      <td>0 - 0</td>\n      <td>0</td>\n      <td>0</td>\n      <td>3.99</td>\n      <td>0</td>\n      <td>Path of Survivors is a multi-class auto-battle...</td>\n      <td>['English']</td>\n      <td>...</td>\n      <td>0</td>\n      <td>0</td>\n      <td>0</td>\n      <td>Limited Input</td>\n      <td>Limited Input</td>\n      <td>Single-player,Steam Achievements,Partial Contr...</td>\n      <td>Action,Casual,Indie,RPG,Simulation</td>\n      <td>NaN</td>\n      <td>https://cdn.akamai.steamstatic.com/steam/apps/...</td>\n      <td>http://cdn.akamai.steamstatic.com/steam/apps/2...</td>\n    </tr>\n    <tr>\n      <th>85102</th>\n      <td>2738840</td>\n      <td>The Night Heist</td>\n      <td>Jan 5, 2024</td>\n      <td>0 - 0</td>\n      <td>0</td>\n      <td>0</td>\n      <td>9.99</td>\n      <td>0</td>\n      <td>Meet Mariah, Maria, and Missy a group of colle...</td>\n      <td>['English']</td>\n      <td>...</td>\n      <td>0</td>\n      <td>0</td>\n      <td>0</td>\n      <td>Ladell Parks</td>\n      <td>Ladell Parks</td>\n      <td>Single-player,Steam Achievements,Full controll...</td>\n      <td>Casual,Indie</td>\n      <td>NaN</td>\n      <td>https://cdn.akamai.steamstatic.com/steam/apps/...</td>\n      <td>http://cdn.akamai.steamstatic.com/steam/apps/2...</td>\n    </tr>\n  </tbody>\n</table>\n<p>78068 rows × 39 columns</p>\n</div>"
     },
     "execution_count": 23,
     "metadata": {},
     "output_type": "execute_result"
    }
   ],
   "source": [
    "df[df['Supported languages'].str.contains(\"English\")]"
   ],
   "metadata": {
    "collapsed": false
   }
  },
  {
   "cell_type": "markdown",
   "source": [
    "### Searching for particular games:"
   ],
   "metadata": {
    "collapsed": false
   }
  },
  {
   "cell_type": "code",
   "execution_count": 25,
   "outputs": [
    {
     "ename": "ValueError",
     "evalue": "Cannot mask with non-boolean array containing NA / NaN values",
     "output_type": "error",
     "traceback": [
      "\u001B[1;31m---------------------------------------------------------------------------\u001B[0m",
      "\u001B[1;31mValueError\u001B[0m                                Traceback (most recent call last)",
      "Cell \u001B[1;32mIn [25], line 1\u001B[0m\n\u001B[1;32m----> 1\u001B[0m \u001B[43mdf\u001B[49m\u001B[43m[\u001B[49m\u001B[43mdf\u001B[49m\u001B[43m[\u001B[49m\u001B[38;5;124;43m'\u001B[39;49m\u001B[38;5;124;43mName\u001B[39;49m\u001B[38;5;124;43m'\u001B[39;49m\u001B[43m]\u001B[49m\u001B[38;5;241;43m.\u001B[39;49m\u001B[43mstr\u001B[49m\u001B[38;5;241;43m.\u001B[39;49m\u001B[43mcontains\u001B[49m\u001B[43m(\u001B[49m\u001B[38;5;124;43m\"\u001B[39;49m\u001B[38;5;124;43mHello Charlotte \u001B[39;49m\u001B[38;5;124;43m\"\u001B[39;49m\u001B[43m)\u001B[49m\u001B[43m]\u001B[49m\n",
      "File \u001B[1;32m~\\AppData\\Roaming\\Python\\Python39\\site-packages\\pandas\\core\\frame.py:4092\u001B[0m, in \u001B[0;36mDataFrame.__getitem__\u001B[1;34m(self, key)\u001B[0m\n\u001B[0;32m   4089\u001B[0m     \u001B[38;5;28;01mreturn\u001B[39;00m \u001B[38;5;28mself\u001B[39m\u001B[38;5;241m.\u001B[39mwhere(key)\n\u001B[0;32m   4091\u001B[0m \u001B[38;5;66;03m# Do we have a (boolean) 1d indexer?\u001B[39;00m\n\u001B[1;32m-> 4092\u001B[0m \u001B[38;5;28;01mif\u001B[39;00m \u001B[43mcom\u001B[49m\u001B[38;5;241;43m.\u001B[39;49m\u001B[43mis_bool_indexer\u001B[49m\u001B[43m(\u001B[49m\u001B[43mkey\u001B[49m\u001B[43m)\u001B[49m:\n\u001B[0;32m   4093\u001B[0m     \u001B[38;5;28;01mreturn\u001B[39;00m \u001B[38;5;28mself\u001B[39m\u001B[38;5;241m.\u001B[39m_getitem_bool_array(key)\n\u001B[0;32m   4095\u001B[0m \u001B[38;5;66;03m# We are left with two options: a single key, and a collection of keys,\u001B[39;00m\n\u001B[0;32m   4096\u001B[0m \u001B[38;5;66;03m# We interpret tuples as collections only for non-MultiIndex\u001B[39;00m\n",
      "File \u001B[1;32m~\\AppData\\Roaming\\Python\\Python39\\site-packages\\pandas\\core\\common.py:136\u001B[0m, in \u001B[0;36mis_bool_indexer\u001B[1;34m(key)\u001B[0m\n\u001B[0;32m    132\u001B[0m     na_msg \u001B[38;5;241m=\u001B[39m \u001B[38;5;124m\"\u001B[39m\u001B[38;5;124mCannot mask with non-boolean array containing NA / NaN values\u001B[39m\u001B[38;5;124m\"\u001B[39m\n\u001B[0;32m    133\u001B[0m     \u001B[38;5;28;01mif\u001B[39;00m lib\u001B[38;5;241m.\u001B[39mis_bool_array(key_array, skipna\u001B[38;5;241m=\u001B[39m\u001B[38;5;28;01mTrue\u001B[39;00m):\n\u001B[0;32m    134\u001B[0m         \u001B[38;5;66;03m# Don't raise on e.g. [\"A\", \"B\", np.nan], see\u001B[39;00m\n\u001B[0;32m    135\u001B[0m         \u001B[38;5;66;03m#  test_loc_getitem_list_of_labels_categoricalindex_with_na\u001B[39;00m\n\u001B[1;32m--> 136\u001B[0m         \u001B[38;5;28;01mraise\u001B[39;00m \u001B[38;5;167;01mValueError\u001B[39;00m(na_msg)\n\u001B[0;32m    137\u001B[0m     \u001B[38;5;28;01mreturn\u001B[39;00m \u001B[38;5;28;01mFalse\u001B[39;00m\n\u001B[0;32m    138\u001B[0m \u001B[38;5;28;01mreturn\u001B[39;00m \u001B[38;5;28;01mTrue\u001B[39;00m\n",
      "\u001B[1;31mValueError\u001B[0m: Cannot mask with non-boolean array containing NA / NaN values"
     ]
    }
   ],
   "source": [
    "df[df['Name'].str.contains(\"Hello Charlotte \")]"
   ],
   "metadata": {
    "collapsed": false
   }
  },
  {
   "cell_type": "markdown",
   "source": [
    "Have to drop rows with null Name column in order for this way of searching to work"
   ],
   "metadata": {
    "collapsed": false
   }
  },
  {
   "cell_type": "code",
   "execution_count": 31,
   "outputs": [
    {
     "data": {
      "text/plain": "         AppID Name  Release date Estimated owners  Peak CCU  Required age  \\\n25222   396420  NaN   Nov 1, 2016            0 - 0         0             0   \n72038  1116910  NaN  Sep 25, 2019            0 - 0         0             0   \n77215  1365520  NaN  Aug 30, 2020            0 - 0         0             0   \n77487  1080790  NaN  Jul 12, 2019            0 - 0         0             0   \n77561  1256960  NaN  Mar 11, 2020        0 - 20000         0             0   \n77721  1172120  NaN  Jan 23, 2020            0 - 0         0             0   \n\n       Price  DLC count                                     About the game  \\\n25222   0.00          0  Spookeningは3Dの恐怖ゲームで、あなたは毎夜に死んでゴーストとして復活します。 村...   \n72038   6.99          0                                                NaN   \n77215   0.00          0                                                NaN   \n77487   0.00          0                                                NaN   \n77561   0.00          0                                                NaN   \n77721   0.00          0                                                NaN   \n\n                                     Supported languages  ...  \\\n25222                                                 []  ...   \n72038                                                 []  ...   \n77215  ['English', 'French', 'Italian', 'German', 'Sp...  ...   \n77487                                        ['English']  ...   \n77561                                        ['English']  ...   \n77721                                        ['English']  ...   \n\n      Average playtime two weeks Median playtime forever  \\\n25222                          0                       0   \n72038                          0                       0   \n77215                          0                       0   \n77487                          0                       0   \n77561                          0                       0   \n77721                          0                       0   \n\n      Median playtime two weeks Developers Publishers  \\\n25222                         0        NaN        NaN   \n72038                         0        NaN        NaN   \n77215                         0        NaN        NaN   \n77487                         0        NaN        NaN   \n77561                         0        NaN        NaN   \n77721                         0        NaN        NaN   \n\n                      Categories  \\\n25222                        NaN   \n72038  Single-player,Steam Cloud   \n77215  Single-player,Steam Cloud   \n77487                        NaN   \n77561                        NaN   \n77721              Single-player   \n\n                                                  Genres  Tags  \\\n25222                                                NaN   NaN   \n72038  Action,Adventure,Casual,Indie,RPG,Simulation,S...   NaN   \n77215                                       Early Access   NaN   \n77487            Adventure,Casual,Free to Play,Indie,RPG   NaN   \n77561                                                NaN   NaN   \n77721                            Action,Indie,Simulation   NaN   \n\n                                             Screenshots  \\\n25222                                                NaN   \n72038  https://cdn.akamai.steamstatic.com/steam/apps/...   \n77215                                                NaN   \n77487                                                NaN   \n77561                                                NaN   \n77721                                                NaN   \n\n                                                  Movies  \n25222                                                NaN  \n72038  http://cdn.akamai.steamstatic.com/steam/apps/2...  \n77215                                                NaN  \n77487                                                NaN  \n77561                                                NaN  \n77721                                                NaN  \n\n[6 rows x 39 columns]",
      "text/html": "<div>\n<style scoped>\n    .dataframe tbody tr th:only-of-type {\n        vertical-align: middle;\n    }\n\n    .dataframe tbody tr th {\n        vertical-align: top;\n    }\n\n    .dataframe thead th {\n        text-align: right;\n    }\n</style>\n<table border=\"1\" class=\"dataframe\">\n  <thead>\n    <tr style=\"text-align: right;\">\n      <th></th>\n      <th>AppID</th>\n      <th>Name</th>\n      <th>Release date</th>\n      <th>Estimated owners</th>\n      <th>Peak CCU</th>\n      <th>Required age</th>\n      <th>Price</th>\n      <th>DLC count</th>\n      <th>About the game</th>\n      <th>Supported languages</th>\n      <th>...</th>\n      <th>Average playtime two weeks</th>\n      <th>Median playtime forever</th>\n      <th>Median playtime two weeks</th>\n      <th>Developers</th>\n      <th>Publishers</th>\n      <th>Categories</th>\n      <th>Genres</th>\n      <th>Tags</th>\n      <th>Screenshots</th>\n      <th>Movies</th>\n    </tr>\n  </thead>\n  <tbody>\n    <tr>\n      <th>25222</th>\n      <td>396420</td>\n      <td>NaN</td>\n      <td>Nov 1, 2016</td>\n      <td>0 - 0</td>\n      <td>0</td>\n      <td>0</td>\n      <td>0.00</td>\n      <td>0</td>\n      <td>Spookeningは3Dの恐怖ゲームで、あなたは毎夜に死んでゴーストとして復活します。 村...</td>\n      <td>[]</td>\n      <td>...</td>\n      <td>0</td>\n      <td>0</td>\n      <td>0</td>\n      <td>NaN</td>\n      <td>NaN</td>\n      <td>NaN</td>\n      <td>NaN</td>\n      <td>NaN</td>\n      <td>NaN</td>\n      <td>NaN</td>\n    </tr>\n    <tr>\n      <th>72038</th>\n      <td>1116910</td>\n      <td>NaN</td>\n      <td>Sep 25, 2019</td>\n      <td>0 - 0</td>\n      <td>0</td>\n      <td>0</td>\n      <td>6.99</td>\n      <td>0</td>\n      <td>NaN</td>\n      <td>[]</td>\n      <td>...</td>\n      <td>0</td>\n      <td>0</td>\n      <td>0</td>\n      <td>NaN</td>\n      <td>NaN</td>\n      <td>Single-player,Steam Cloud</td>\n      <td>Action,Adventure,Casual,Indie,RPG,Simulation,S...</td>\n      <td>NaN</td>\n      <td>https://cdn.akamai.steamstatic.com/steam/apps/...</td>\n      <td>http://cdn.akamai.steamstatic.com/steam/apps/2...</td>\n    </tr>\n    <tr>\n      <th>77215</th>\n      <td>1365520</td>\n      <td>NaN</td>\n      <td>Aug 30, 2020</td>\n      <td>0 - 0</td>\n      <td>0</td>\n      <td>0</td>\n      <td>0.00</td>\n      <td>0</td>\n      <td>NaN</td>\n      <td>['English', 'French', 'Italian', 'German', 'Sp...</td>\n      <td>...</td>\n      <td>0</td>\n      <td>0</td>\n      <td>0</td>\n      <td>NaN</td>\n      <td>NaN</td>\n      <td>Single-player,Steam Cloud</td>\n      <td>Early Access</td>\n      <td>NaN</td>\n      <td>NaN</td>\n      <td>NaN</td>\n    </tr>\n    <tr>\n      <th>77487</th>\n      <td>1080790</td>\n      <td>NaN</td>\n      <td>Jul 12, 2019</td>\n      <td>0 - 0</td>\n      <td>0</td>\n      <td>0</td>\n      <td>0.00</td>\n      <td>0</td>\n      <td>NaN</td>\n      <td>['English']</td>\n      <td>...</td>\n      <td>0</td>\n      <td>0</td>\n      <td>0</td>\n      <td>NaN</td>\n      <td>NaN</td>\n      <td>NaN</td>\n      <td>Adventure,Casual,Free to Play,Indie,RPG</td>\n      <td>NaN</td>\n      <td>NaN</td>\n      <td>NaN</td>\n    </tr>\n    <tr>\n      <th>77561</th>\n      <td>1256960</td>\n      <td>NaN</td>\n      <td>Mar 11, 2020</td>\n      <td>0 - 20000</td>\n      <td>0</td>\n      <td>0</td>\n      <td>0.00</td>\n      <td>0</td>\n      <td>NaN</td>\n      <td>['English']</td>\n      <td>...</td>\n      <td>0</td>\n      <td>0</td>\n      <td>0</td>\n      <td>NaN</td>\n      <td>NaN</td>\n      <td>NaN</td>\n      <td>NaN</td>\n      <td>NaN</td>\n      <td>NaN</td>\n      <td>NaN</td>\n    </tr>\n    <tr>\n      <th>77721</th>\n      <td>1172120</td>\n      <td>NaN</td>\n      <td>Jan 23, 2020</td>\n      <td>0 - 0</td>\n      <td>0</td>\n      <td>0</td>\n      <td>0.00</td>\n      <td>0</td>\n      <td>NaN</td>\n      <td>['English']</td>\n      <td>...</td>\n      <td>0</td>\n      <td>0</td>\n      <td>0</td>\n      <td>NaN</td>\n      <td>NaN</td>\n      <td>Single-player</td>\n      <td>Action,Indie,Simulation</td>\n      <td>NaN</td>\n      <td>NaN</td>\n      <td>NaN</td>\n    </tr>\n  </tbody>\n</table>\n<p>6 rows × 39 columns</p>\n</div>"
     },
     "execution_count": 31,
     "metadata": {},
     "output_type": "execute_result"
    }
   ],
   "source": [
    "df[df['Name'].isnull()]"
   ],
   "metadata": {
    "collapsed": false
   }
  },
  {
   "cell_type": "code",
   "execution_count": 32,
   "outputs": [],
   "source": [
    "df.dropna(subset=['Name'], how='any', inplace=True)"
   ],
   "metadata": {
    "collapsed": false
   }
  },
  {
   "cell_type": "code",
   "execution_count": 33,
   "outputs": [
    {
     "data": {
      "text/plain": "        AppID                                       Name  Release date  \\\n17115  557630  Hello Charlotte EP2: Requiem Aeternam Deo  Nov 21, 2016   \n21639  760890       Hello Charlotte EP3: Childhood's End   Jan 4, 2018   \n\n      Estimated owners  Peak CCU  Required age  Price  DLC count  \\\n17115   50000 - 100000         8             0   0.00          0   \n21639    20000 - 50000         9             0   2.99          1   \n\n                                          About the game  \\\n17115  Intro Hello, new Puppeteer! Meet Charlotte — a...   \n21639  Synopsis Charlotte's story has ended. Charlott...   \n\n                                     Supported languages  ...  \\\n17115  ['English', 'Russian', 'Spanish - Spain', 'Kor...  ...   \n21639  ['English', 'Russian', 'Simplified Chinese', '...  ...   \n\n      Average playtime two weeks Median playtime forever  \\\n17115                          0                     440   \n21639                          0                     333   \n\n      Median playtime two weeks Developers Publishers  \\\n17115                         0   etherane   etherane   \n21639                         0   etherane   etherane   \n\n                                              Categories               Genres  \\\n17115                                      Single-player  Adventure,Indie,RPG   \n21639  Single-player,Steam Achievements,Steam Trading...            Indie,RPG   \n\n                                                    Tags  \\\n17115  RPG,2D,Horror,Psychological Horror,Anime,Femal...   \n21639  Gore,Indie,Violent,Story Rich,Psychological Ho...   \n\n                                             Screenshots  \\\n17115  https://cdn.akamai.steamstatic.com/steam/apps/...   \n21639  https://cdn.akamai.steamstatic.com/steam/apps/...   \n\n                                                  Movies  \n17115  http://cdn.akamai.steamstatic.com/steam/apps/2...  \n21639  http://cdn.akamai.steamstatic.com/steam/apps/2...  \n\n[2 rows x 39 columns]",
      "text/html": "<div>\n<style scoped>\n    .dataframe tbody tr th:only-of-type {\n        vertical-align: middle;\n    }\n\n    .dataframe tbody tr th {\n        vertical-align: top;\n    }\n\n    .dataframe thead th {\n        text-align: right;\n    }\n</style>\n<table border=\"1\" class=\"dataframe\">\n  <thead>\n    <tr style=\"text-align: right;\">\n      <th></th>\n      <th>AppID</th>\n      <th>Name</th>\n      <th>Release date</th>\n      <th>Estimated owners</th>\n      <th>Peak CCU</th>\n      <th>Required age</th>\n      <th>Price</th>\n      <th>DLC count</th>\n      <th>About the game</th>\n      <th>Supported languages</th>\n      <th>...</th>\n      <th>Average playtime two weeks</th>\n      <th>Median playtime forever</th>\n      <th>Median playtime two weeks</th>\n      <th>Developers</th>\n      <th>Publishers</th>\n      <th>Categories</th>\n      <th>Genres</th>\n      <th>Tags</th>\n      <th>Screenshots</th>\n      <th>Movies</th>\n    </tr>\n  </thead>\n  <tbody>\n    <tr>\n      <th>17115</th>\n      <td>557630</td>\n      <td>Hello Charlotte EP2: Requiem Aeternam Deo</td>\n      <td>Nov 21, 2016</td>\n      <td>50000 - 100000</td>\n      <td>8</td>\n      <td>0</td>\n      <td>0.00</td>\n      <td>0</td>\n      <td>Intro Hello, new Puppeteer! Meet Charlotte — a...</td>\n      <td>['English', 'Russian', 'Spanish - Spain', 'Kor...</td>\n      <td>...</td>\n      <td>0</td>\n      <td>440</td>\n      <td>0</td>\n      <td>etherane</td>\n      <td>etherane</td>\n      <td>Single-player</td>\n      <td>Adventure,Indie,RPG</td>\n      <td>RPG,2D,Horror,Psychological Horror,Anime,Femal...</td>\n      <td>https://cdn.akamai.steamstatic.com/steam/apps/...</td>\n      <td>http://cdn.akamai.steamstatic.com/steam/apps/2...</td>\n    </tr>\n    <tr>\n      <th>21639</th>\n      <td>760890</td>\n      <td>Hello Charlotte EP3: Childhood's End</td>\n      <td>Jan 4, 2018</td>\n      <td>20000 - 50000</td>\n      <td>9</td>\n      <td>0</td>\n      <td>2.99</td>\n      <td>1</td>\n      <td>Synopsis Charlotte's story has ended. Charlott...</td>\n      <td>['English', 'Russian', 'Simplified Chinese', '...</td>\n      <td>...</td>\n      <td>0</td>\n      <td>333</td>\n      <td>0</td>\n      <td>etherane</td>\n      <td>etherane</td>\n      <td>Single-player,Steam Achievements,Steam Trading...</td>\n      <td>Indie,RPG</td>\n      <td>Gore,Indie,Violent,Story Rich,Psychological Ho...</td>\n      <td>https://cdn.akamai.steamstatic.com/steam/apps/...</td>\n      <td>http://cdn.akamai.steamstatic.com/steam/apps/2...</td>\n    </tr>\n  </tbody>\n</table>\n<p>2 rows × 39 columns</p>\n</div>"
     },
     "execution_count": 33,
     "metadata": {},
     "output_type": "execute_result"
    }
   ],
   "source": [
    "df[df['Name'].str.contains(\"Hello Charlotte \")]"
   ],
   "metadata": {
    "collapsed": false
   }
  },
  {
   "cell_type": "code",
   "execution_count": 30,
   "outputs": [
    {
     "data": {
      "text/plain": "         AppID                       Name Release date Estimated owners  \\\n74627  2443110  South Scrimshaw, Part One  Jun 9, 2023            0 - 0   \n\n       Peak CCU  Required age  Price  DLC count  \\\n74627         0             0    0.0          0   \n\n                                          About the game Supported languages  \\\n74627  'The consciousness dawning inside of an aquati...         ['English']   \n\n       ... Average playtime two weeks Median playtime forever  \\\n74627  ...                          0                       0   \n\n      Median playtime two weeks       Developers       Publishers  \\\n74627                         0  Nathan O. Marsh  Nathan O. Marsh   \n\n                             Categories        Genres  Tags  \\\n74627  Single-player,Steam Achievements  Casual,Indie   NaN   \n\n                                             Screenshots  \\\n74627  https://cdn.akamai.steamstatic.com/steam/apps/...   \n\n                                                  Movies  \n74627  http://cdn.akamai.steamstatic.com/steam/apps/2...  \n\n[1 rows x 39 columns]",
      "text/html": "<div>\n<style scoped>\n    .dataframe tbody tr th:only-of-type {\n        vertical-align: middle;\n    }\n\n    .dataframe tbody tr th {\n        vertical-align: top;\n    }\n\n    .dataframe thead th {\n        text-align: right;\n    }\n</style>\n<table border=\"1\" class=\"dataframe\">\n  <thead>\n    <tr style=\"text-align: right;\">\n      <th></th>\n      <th>AppID</th>\n      <th>Name</th>\n      <th>Release date</th>\n      <th>Estimated owners</th>\n      <th>Peak CCU</th>\n      <th>Required age</th>\n      <th>Price</th>\n      <th>DLC count</th>\n      <th>About the game</th>\n      <th>Supported languages</th>\n      <th>...</th>\n      <th>Average playtime two weeks</th>\n      <th>Median playtime forever</th>\n      <th>Median playtime two weeks</th>\n      <th>Developers</th>\n      <th>Publishers</th>\n      <th>Categories</th>\n      <th>Genres</th>\n      <th>Tags</th>\n      <th>Screenshots</th>\n      <th>Movies</th>\n    </tr>\n  </thead>\n  <tbody>\n    <tr>\n      <th>74627</th>\n      <td>2443110</td>\n      <td>South Scrimshaw, Part One</td>\n      <td>Jun 9, 2023</td>\n      <td>0 - 0</td>\n      <td>0</td>\n      <td>0</td>\n      <td>0.0</td>\n      <td>0</td>\n      <td>'The consciousness dawning inside of an aquati...</td>\n      <td>['English']</td>\n      <td>...</td>\n      <td>0</td>\n      <td>0</td>\n      <td>0</td>\n      <td>Nathan O. Marsh</td>\n      <td>Nathan O. Marsh</td>\n      <td>Single-player,Steam Achievements</td>\n      <td>Casual,Indie</td>\n      <td>NaN</td>\n      <td>https://cdn.akamai.steamstatic.com/steam/apps/...</td>\n      <td>http://cdn.akamai.steamstatic.com/steam/apps/2...</td>\n    </tr>\n  </tbody>\n</table>\n<p>1 rows × 39 columns</p>\n</div>"
     },
     "execution_count": 30,
     "metadata": {},
     "output_type": "execute_result"
    }
   ],
   "source": [
    "df[df['AppID']==2443110]"
   ],
   "metadata": {
    "collapsed": false
   }
  },
  {
   "cell_type": "code",
   "execution_count": null,
   "outputs": [],
   "source": [],
   "metadata": {
    "collapsed": false
   }
  }
 ],
 "metadata": {
  "kernelspec": {
   "display_name": "Python 3",
   "language": "python",
   "name": "python3"
  },
  "language_info": {
   "codemirror_mode": {
    "name": "ipython",
    "version": 2
   },
   "file_extension": ".py",
   "mimetype": "text/x-python",
   "name": "python",
   "nbconvert_exporter": "python",
   "pygments_lexer": "ipython2",
   "version": "2.7.6"
  }
 },
 "nbformat": 4,
 "nbformat_minor": 0
}
