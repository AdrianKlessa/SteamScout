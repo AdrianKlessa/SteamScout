{
 "cells": [
  {
   "cell_type": "code",
   "id": "initial_id",
   "metadata": {
    "collapsed": true,
    "ExecuteTime": {
     "end_time": "2024-07-15T13:40:52.002676Z",
     "start_time": "2024-07-15T13:40:48.841317Z"
    }
   },
   "source": [
    "from pathlib import Path\n",
    "data_dir = Path('../data/raw')\n",
    "csv_path = data_dir / \"games.csv\"\n",
    "\n",
    "models_path = Path(\"../models\")\n",
    "doc2vec_path = models_path / \"doc2vec_trained\"\n",
    "\n",
    "\n",
    "import pandas as pd\n",
    "\n",
    "df = pd.read_csv(csv_path)"
   ],
   "outputs": [],
   "execution_count": 1
  },
  {
   "metadata": {
    "ExecuteTime": {
     "end_time": "2024-07-15T13:49:26.977588Z",
     "start_time": "2024-07-15T13:49:26.510666Z"
    }
   },
   "cell_type": "code",
   "source": [
    "from gensim.utils import simple_preprocess\n",
    "from gensim.models import doc2vec\n",
    "import string\n",
    "import numpy as np\n",
    "\n",
    "doc2vec_model = doc2vec.Doc2Vec.load(str(doc2vec_path))\n",
    "\n",
    "def process_line_doc2vec(line : str) ->str:\n",
    "    processed = line.translate(str.maketrans('','',string.punctuation))\n",
    "    return processed.lower()\n",
    "\n",
    "def desc_to_vector(desc : str) -> np.array:\n",
    "    line = process_line_doc2vec(desc)\n",
    "    line = simple_preprocess(line)\n",
    "    vec = doc2vec_model.infer_vector(line)\n",
    "    return vec"
   ],
   "id": "434f4e0473789b24",
   "outputs": [],
   "execution_count": 6
  },
  {
   "metadata": {
    "ExecuteTime": {
     "end_time": "2024-07-15T14:01:57.939760Z",
     "start_time": "2024-07-15T14:01:57.912761Z"
    }
   },
   "cell_type": "code",
   "source": [
    "from typing import Iterable\n",
    "import json\n",
    "\n",
    "def str_tags_to_set(tags : str)->Iterable[str]:\n",
    "    return set(tags.split(\",\"))\n",
    "\n",
    "with open(\"tag_dictionary.json\", \"r\", encoding=\"utf-8\") as f:\n",
    "    tag_dict = json.load(f)\n",
    "\n",
    "def vectorize_str_tags(tags: str):\n",
    "    vec = np.zeros(448)\n",
    "    if tags.lower()==\"nan\":\n",
    "        return vec\n",
    "    tags_set = str_tags_to_set(tags)\n",
    "    for tag in tags_set:\n",
    "        vec[tag_dict[tag]]=1\n",
    "    return vec"
   ],
   "id": "55f8389e333b0f00",
   "outputs": [],
   "execution_count": 12
  },
  {
   "metadata": {
    "ExecuteTime": {
     "end_time": "2024-07-15T13:52:03.546807Z",
     "start_time": "2024-07-15T13:52:03.521637Z"
    }
   },
   "cell_type": "code",
   "source": [
    "df[\"About the game\"] = df[\"About the game\"].astype(str)\n",
    "df[\"Tags\"] = df[\"Tags\"].astype(str)"
   ],
   "id": "1db6c5c81e3f20aa",
   "outputs": [],
   "execution_count": 9
  },
  {
   "metadata": {
    "ExecuteTime": {
     "end_time": "2024-07-15T14:10:31.488623Z",
     "start_time": "2024-07-15T14:02:23.840368Z"
    }
   },
   "cell_type": "code",
   "source": [
    "df[\"Description_vector\"] = df[\"About the game\"].apply(desc_to_vector)\n",
    "df[\"Tags_vector\"] = df[\"Tags\"].apply(vectorize_str_tags)"
   ],
   "id": "8efc5a8ba5360a7",
   "outputs": [],
   "execution_count": 13
  },
  {
   "metadata": {
    "ExecuteTime": {
     "end_time": "2024-07-15T14:10:35.200901Z",
     "start_time": "2024-07-15T14:10:35.120899Z"
    }
   },
   "cell_type": "code",
   "source": "df.info()",
   "id": "ce8eb3511a58da9e",
   "outputs": [
    {
     "name": "stdout",
     "output_type": "stream",
     "text": [
      "<class 'pandas.core.frame.DataFrame'>\n",
      "RangeIndex: 85103 entries, 0 to 85102\n",
      "Data columns (total 41 columns):\n",
      " #   Column                      Non-Null Count  Dtype  \n",
      "---  ------                      --------------  -----  \n",
      " 0   AppID                       85103 non-null  int64  \n",
      " 1   Name                        85097 non-null  object \n",
      " 2   Release date                85103 non-null  object \n",
      " 3   Estimated owners            85103 non-null  object \n",
      " 4   Peak CCU                    85103 non-null  int64  \n",
      " 5   Required age                85103 non-null  int64  \n",
      " 6   Price                       85103 non-null  float64\n",
      " 7   DLC count                   85103 non-null  int64  \n",
      " 8   About the game              85103 non-null  object \n",
      " 9   Supported languages         85103 non-null  object \n",
      " 10  Full audio languages        85103 non-null  object \n",
      " 11  Reviews                     9743 non-null   object \n",
      " 12  Header image                85103 non-null  object \n",
      " 13  Website                     39452 non-null  object \n",
      " 14  Support url                 41586 non-null  object \n",
      " 15  Support email               71507 non-null  object \n",
      " 16  Windows                     85103 non-null  bool   \n",
      " 17  Mac                         85103 non-null  bool   \n",
      " 18  Linux                       85103 non-null  bool   \n",
      " 19  Metacritic score            85103 non-null  int64  \n",
      " 20  Metacritic url              3912 non-null   object \n",
      " 21  User score                  85103 non-null  int64  \n",
      " 22  Positive                    85103 non-null  int64  \n",
      " 23  Negative                    85103 non-null  int64  \n",
      " 24  Score rank                  44 non-null     float64\n",
      " 25  Achievements                85103 non-null  int64  \n",
      " 26  Recommendations             85103 non-null  int64  \n",
      " 27  Notes                       13021 non-null  object \n",
      " 28  Average playtime forever    85103 non-null  int64  \n",
      " 29  Average playtime two weeks  85103 non-null  int64  \n",
      " 30  Median playtime forever     85103 non-null  int64  \n",
      " 31  Median playtime two weeks   85103 non-null  int64  \n",
      " 32  Developers                  81516 non-null  object \n",
      " 33  Publishers                  81236 non-null  object \n",
      " 34  Categories                  80505 non-null  object \n",
      " 35  Genres                      81548 non-null  object \n",
      " 36  Tags                        85103 non-null  object \n",
      " 37  Screenshots                 83097 non-null  object \n",
      " 38  Movies                      78650 non-null  object \n",
      " 39  Description_vector          85103 non-null  object \n",
      " 40  Tags_vector                 85103 non-null  object \n",
      "dtypes: bool(3), float64(2), int64(14), object(22)\n",
      "memory usage: 24.9+ MB\n"
     ]
    }
   ],
   "execution_count": 14
  },
  {
   "metadata": {
    "ExecuteTime": {
     "end_time": "2024-07-15T14:11:43.603400Z",
     "start_time": "2024-07-15T14:11:42.279401Z"
    }
   },
   "cell_type": "code",
   "source": "df.to_pickle(\"games_with_vectors.pickle\")",
   "id": "4e5913f423854f97",
   "outputs": [],
   "execution_count": 15
  },
  {
   "metadata": {
    "ExecuteTime": {
     "end_time": "2024-07-15T14:14:19.193902Z",
     "start_time": "2024-07-15T14:14:19.181903Z"
    }
   },
   "cell_type": "code",
   "source": "df.iloc[0]",
   "id": "3c4a80ec1b3c2f89",
   "outputs": [
    {
     "data": {
      "text/plain": [
       "AppID                                                                     20200\n",
       "Name                                                           Galactic Bowling\n",
       "Release date                                                       Oct 21, 2008\n",
       "Estimated owners                                                      0 - 20000\n",
       "Peak CCU                                                                      0\n",
       "Required age                                                                  0\n",
       "Price                                                                     19.99\n",
       "DLC count                                                                     0\n",
       "About the game                Galactic Bowling is an exaggerated and stylize...\n",
       "Supported languages                                                 ['English']\n",
       "Full audio languages                                                         []\n",
       "Reviews                                                                     NaN\n",
       "Header image                  https://cdn.akamai.steamstatic.com/steam/apps/...\n",
       "Website                                          http://www.galacticbowling.net\n",
       "Support url                                                                 NaN\n",
       "Support email                                                               NaN\n",
       "Windows                                                                    True\n",
       "Mac                                                                       False\n",
       "Linux                                                                     False\n",
       "Metacritic score                                                              0\n",
       "Metacritic url                                                              NaN\n",
       "User score                                                                    0\n",
       "Positive                                                                      6\n",
       "Negative                                                                     11\n",
       "Score rank                                                                  NaN\n",
       "Achievements                                                                 30\n",
       "Recommendations                                                               0\n",
       "Notes                                                                       NaN\n",
       "Average playtime forever                                                      0\n",
       "Average playtime two weeks                                                    0\n",
       "Median playtime forever                                                       0\n",
       "Median playtime two weeks                                                     0\n",
       "Developers                                                Perpetual FX Creative\n",
       "Publishers                                                Perpetual FX Creative\n",
       "Categories                    Single-player,Multi-player,Steam Achievements,...\n",
       "Genres                                                      Casual,Indie,Sports\n",
       "Tags                                                Indie,Casual,Sports,Bowling\n",
       "Screenshots                   https://cdn.akamai.steamstatic.com/steam/apps/...\n",
       "Movies                        http://cdn.akamai.steamstatic.com/steam/apps/2...\n",
       "Description_vector            [-2.2509484, -0.2742933, -0.7448804, 0.0548065...\n",
       "Tags_vector                   [0.0, 0.0, 0.0, 0.0, 0.0, 0.0, 0.0, 0.0, 0.0, ...\n",
       "Name: 0, dtype: object"
      ]
     },
     "execution_count": 18,
     "metadata": {},
     "output_type": "execute_result"
    }
   ],
   "execution_count": 18
  },
  {
   "metadata": {},
   "cell_type": "code",
   "outputs": [],
   "execution_count": null,
   "source": "",
   "id": "4f1c3db25152604b"
  }
 ],
 "metadata": {
  "kernelspec": {
   "display_name": "Python 3",
   "language": "python",
   "name": "python3"
  },
  "language_info": {
   "codemirror_mode": {
    "name": "ipython",
    "version": 2
   },
   "file_extension": ".py",
   "mimetype": "text/x-python",
   "name": "python",
   "nbconvert_exporter": "python",
   "pygments_lexer": "ipython2",
   "version": "2.7.6"
  }
 },
 "nbformat": 4,
 "nbformat_minor": 5
}
