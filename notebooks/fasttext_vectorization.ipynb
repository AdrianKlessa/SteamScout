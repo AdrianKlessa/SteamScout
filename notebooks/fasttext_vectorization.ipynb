{
 "cells": [
  {
   "cell_type": "markdown",
   "source": [
    "### Steam game description vectorization"
   ],
   "metadata": {
    "collapsed": false
   }
  },
  {
   "cell_type": "markdown",
   "source": [
    "\"About this game\" (game description) is a long text field provided by the developer of a game that appears on its store page. It is often used to explain what makes the game stand out from other games in its genre, and to provide a short introduction to the game's story/lore.\n",
    "\n",
    "Unlike tags, the description is:\n",
    "* Provided by the game's developer (not users)\n",
    "* Freely editable text with no predefined format.\n",
    "\n",
    "This makes it a good candidate for using an embedding algorithm to convert to a feature for content-based recommendations.\n",
    "\n",
    "Game description can include images, which unfortunately will not be vectorized by the methods applied here."
   ],
   "metadata": {
    "collapsed": false
   }
  },
  {
   "cell_type": "code",
   "execution_count": 19,
   "outputs": [],
   "source": [
    "from pathlib import Path\n",
    "data_dir = Path('../data/raw')\n",
    "csv_path = data_dir / \"games.csv\"\n",
    "json_path = data_dir / \"games.json\"\n",
    "\n",
    "import pandas as pd\n",
    "\n",
    "df = pd.read_csv(csv_path)"
   ],
   "metadata": {
    "collapsed": false
   }
  },
  {
   "cell_type": "markdown",
   "source": [
    "### Filtering to English-language games with a name and description:"
   ],
   "metadata": {
    "collapsed": false
   }
  },
  {
   "cell_type": "code",
   "execution_count": 20,
   "outputs": [],
   "source": [
    "df.dropna(subset=['Name', 'About the game'], how='any', inplace=True)\n",
    "english_descriptions = df[df['Supported languages'].str.contains(\"English\")]"
   ],
   "metadata": {
    "collapsed": false
   }
  },
  {
   "cell_type": "code",
   "execution_count": 21,
   "outputs": [],
   "source": [
    "pd.options.mode.chained_assignment = None\n",
    "english_descriptions['About the game'] = english_descriptions['About the game'].astype(str)"
   ],
   "metadata": {
    "collapsed": false
   }
  },
  {
   "cell_type": "code",
   "execution_count": 22,
   "outputs": [
    {
     "data": {
      "text/plain": "Empty DataFrame\nColumns: [AppID, Name, Release date, Estimated owners, Peak CCU, Required age, Price, DLC count, About the game, Supported languages, Full audio languages, Reviews, Header image, Website, Support url, Support email, Windows, Mac, Linux, Metacritic score, Metacritic url, User score, Positive, Negative, Score rank, Achievements, Recommendations, Notes, Average playtime forever, Average playtime two weeks, Median playtime forever, Median playtime two weeks, Developers, Publishers, Categories, Genres, Tags, Screenshots, Movies]\nIndex: []\n\n[0 rows x 39 columns]",
      "text/html": "<div>\n<style scoped>\n    .dataframe tbody tr th:only-of-type {\n        vertical-align: middle;\n    }\n\n    .dataframe tbody tr th {\n        vertical-align: top;\n    }\n\n    .dataframe thead th {\n        text-align: right;\n    }\n</style>\n<table border=\"1\" class=\"dataframe\">\n  <thead>\n    <tr style=\"text-align: right;\">\n      <th></th>\n      <th>AppID</th>\n      <th>Name</th>\n      <th>Release date</th>\n      <th>Estimated owners</th>\n      <th>Peak CCU</th>\n      <th>Required age</th>\n      <th>Price</th>\n      <th>DLC count</th>\n      <th>About the game</th>\n      <th>Supported languages</th>\n      <th>...</th>\n      <th>Average playtime two weeks</th>\n      <th>Median playtime forever</th>\n      <th>Median playtime two weeks</th>\n      <th>Developers</th>\n      <th>Publishers</th>\n      <th>Categories</th>\n      <th>Genres</th>\n      <th>Tags</th>\n      <th>Screenshots</th>\n      <th>Movies</th>\n    </tr>\n  </thead>\n  <tbody>\n  </tbody>\n</table>\n<p>0 rows × 39 columns</p>\n</div>"
     },
     "execution_count": 22,
     "metadata": {},
     "output_type": "execute_result"
    }
   ],
   "source": [
    "english_descriptions[english_descriptions['Name'].isnull()]"
   ],
   "metadata": {
    "collapsed": false
   }
  },
  {
   "cell_type": "code",
   "execution_count": 23,
   "outputs": [
    {
     "data": {
      "text/plain": "Empty DataFrame\nColumns: [AppID, Name, Release date, Estimated owners, Peak CCU, Required age, Price, DLC count, About the game, Supported languages, Full audio languages, Reviews, Header image, Website, Support url, Support email, Windows, Mac, Linux, Metacritic score, Metacritic url, User score, Positive, Negative, Score rank, Achievements, Recommendations, Notes, Average playtime forever, Average playtime two weeks, Median playtime forever, Median playtime two weeks, Developers, Publishers, Categories, Genres, Tags, Screenshots, Movies]\nIndex: []\n\n[0 rows x 39 columns]",
      "text/html": "<div>\n<style scoped>\n    .dataframe tbody tr th:only-of-type {\n        vertical-align: middle;\n    }\n\n    .dataframe tbody tr th {\n        vertical-align: top;\n    }\n\n    .dataframe thead th {\n        text-align: right;\n    }\n</style>\n<table border=\"1\" class=\"dataframe\">\n  <thead>\n    <tr style=\"text-align: right;\">\n      <th></th>\n      <th>AppID</th>\n      <th>Name</th>\n      <th>Release date</th>\n      <th>Estimated owners</th>\n      <th>Peak CCU</th>\n      <th>Required age</th>\n      <th>Price</th>\n      <th>DLC count</th>\n      <th>About the game</th>\n      <th>Supported languages</th>\n      <th>...</th>\n      <th>Average playtime two weeks</th>\n      <th>Median playtime forever</th>\n      <th>Median playtime two weeks</th>\n      <th>Developers</th>\n      <th>Publishers</th>\n      <th>Categories</th>\n      <th>Genres</th>\n      <th>Tags</th>\n      <th>Screenshots</th>\n      <th>Movies</th>\n    </tr>\n  </thead>\n  <tbody>\n  </tbody>\n</table>\n<p>0 rows × 39 columns</p>\n</div>"
     },
     "execution_count": 23,
     "metadata": {},
     "output_type": "execute_result"
    }
   ],
   "source": [
    "english_descriptions[english_descriptions['About the game'].isnull()]"
   ],
   "metadata": {
    "collapsed": false
   }
  },
  {
   "cell_type": "code",
   "execution_count": 24,
   "outputs": [
    {
     "name": "stdout",
     "output_type": "stream",
     "text": [
      "<class 'pandas.core.frame.DataFrame'>\n",
      "Index: 77964 entries, 0 to 85102\n",
      "Data columns (total 39 columns):\n",
      " #   Column                      Non-Null Count  Dtype  \n",
      "---  ------                      --------------  -----  \n",
      " 0   AppID                       77964 non-null  int64  \n",
      " 1   Name                        77964 non-null  object \n",
      " 2   Release date                77964 non-null  object \n",
      " 3   Estimated owners            77964 non-null  object \n",
      " 4   Peak CCU                    77964 non-null  int64  \n",
      " 5   Required age                77964 non-null  int64  \n",
      " 6   Price                       77964 non-null  float64\n",
      " 7   DLC count                   77964 non-null  int64  \n",
      " 8   About the game              77964 non-null  object \n",
      " 9   Supported languages         77964 non-null  object \n",
      " 10  Full audio languages        77964 non-null  object \n",
      " 11  Reviews                     9651 non-null   object \n",
      " 12  Header image                77964 non-null  object \n",
      " 13  Website                     38350 non-null  object \n",
      " 14  Support url                 39956 non-null  object \n",
      " 15  Support email               68278 non-null  object \n",
      " 16  Windows                     77964 non-null  bool   \n",
      " 17  Mac                         77964 non-null  bool   \n",
      " 18  Linux                       77964 non-null  bool   \n",
      " 19  Metacritic score            77964 non-null  int64  \n",
      " 20  Metacritic url              3900 non-null   object \n",
      " 21  User score                  77964 non-null  int64  \n",
      " 22  Positive                    77964 non-null  int64  \n",
      " 23  Negative                    77964 non-null  int64  \n",
      " 24  Score rank                  42 non-null     float64\n",
      " 25  Achievements                77964 non-null  int64  \n",
      " 26  Recommendations             77964 non-null  int64  \n",
      " 27  Notes                       12481 non-null  object \n",
      " 28  Average playtime forever    77964 non-null  int64  \n",
      " 29  Average playtime two weeks  77964 non-null  int64  \n",
      " 30  Median playtime forever     77964 non-null  int64  \n",
      " 31  Median playtime two weeks   77964 non-null  int64  \n",
      " 32  Developers                  77854 non-null  object \n",
      " 33  Publishers                  77581 non-null  object \n",
      " 34  Categories                  76830 non-null  object \n",
      " 35  Genres                      77882 non-null  object \n",
      " 36  Tags                        61643 non-null  object \n",
      " 37  Screenshots                 77935 non-null  object \n",
      " 38  Movies                      75155 non-null  object \n",
      "dtypes: bool(3), float64(2), int64(14), object(20)\n",
      "memory usage: 22.2+ MB\n"
     ]
    }
   ],
   "source": [
    "english_descriptions.info()"
   ],
   "metadata": {
    "collapsed": false
   }
  },
  {
   "cell_type": "markdown",
   "source": [
    "### Normalizing description\n",
    "\n",
    "* Removing punctuation\n",
    "* Changing all text to lowercase"
   ],
   "metadata": {
    "collapsed": false
   }
  },
  {
   "cell_type": "code",
   "execution_count": 25,
   "outputs": [],
   "source": [
    "import string\n",
    "def process_line(line : str) ->str:\n",
    "    processed = line.translate(str.maketrans('','',string.punctuation))\n",
    "    return processed.lower()"
   ],
   "metadata": {
    "collapsed": false
   }
  },
  {
   "cell_type": "code",
   "execution_count": 26,
   "outputs": [
    {
     "data": {
      "text/plain": "'test text ok'"
     },
     "execution_count": 26,
     "metadata": {},
     "output_type": "execute_result"
    }
   ],
   "source": [
    "process_line(\"Test text!.? OK\")"
   ],
   "metadata": {
    "collapsed": false
   }
  },
  {
   "cell_type": "code",
   "execution_count": 27,
   "outputs": [],
   "source": [
    "english_descriptions['About the game'] = english_descriptions['About the game'].apply(lambda x: process_line(x))"
   ],
   "metadata": {
    "collapsed": false
   }
  },
  {
   "cell_type": "code",
   "execution_count": 28,
   "outputs": [
    {
     "data": {
      "text/plain": "0    galactic bowling is an exaggerated and stylize...\n1    the law looks to be a showdown atop a train th...\n2    jolt project the army now has a new robotics p...\n3    henosis™ is a mysterious 2d platform puzzler w...\n4    about the game play as a hacker who has arrang...\nName: About the game, dtype: object"
     },
     "execution_count": 28,
     "metadata": {},
     "output_type": "execute_result"
    }
   ],
   "source": [
    "english_descriptions['About the game'].head()"
   ],
   "metadata": {
    "collapsed": false
   }
  },
  {
   "cell_type": "code",
   "execution_count": 29,
   "outputs": [],
   "source": [
    "from gensim.models import FastText\n",
    "\n",
    "data_input = english_descriptions['About the game'].tolist()"
   ],
   "metadata": {
    "collapsed": false
   }
  },
  {
   "cell_type": "code",
   "execution_count": 30,
   "outputs": [
    {
     "name": "stdout",
     "output_type": "stream",
     "text": [
      "['galactic bowling is an exaggerated and stylized bowling game with an intergalactic twist players will engage in fastpaced single and multiplayer competition while being submerged in a unique new universe filled with overthetop humor wild characters unique levels and addictive game play the title is aimed at players of all ages and skill sets through accessible and intuitive controls and gameplay galactic bowling allows you to jump right into the action a singleplayer campaign and online play allow you to work your way up the ranks of the galactic bowling league whether you have hours to play or only a few minutes galactic bowling is a fast paced and entertaining experience that will leave you wanting more full singleplayer story campaign including 11 characters and environments 2 singleplayer play modes including regular and battle modes head to head online multiplayer play modes super powers special balls and whammies unlockable characters environments and minigames unlock all 30 steam achievements', 'the law looks to be a showdown atop a train this will be your last fight good luck train bandit what is this game train bandit is a simple score attack game the law will attack you from both sides your weapon is your keyboard youll use those keys to kick the living shit out of the law react quickly by attacking the correct direction reactor youre dead the features unlock new bandits earn achievements become steams most wanted  battle elite officers kick the laws ass', 'jolt project the army now has a new robotics project jolt its up to you to control it and ensure the success of the missions there are 9 stages of taking the breath away with the right difficulty and good gameplay plus an insane way of survival fire missiles at cars tanks helicopters and turrets the fun is guaranteed use your mouse to aim and shoot and take out the enemies in this game you will have to be aware of the various enemies who will do everything to destroy your charges and prevent the success of your mission cartoonstyle graphics are optimized and fun and generate an excellent gaming environment']\n"
     ]
    }
   ],
   "source": [
    "print(data_input[:3])"
   ],
   "metadata": {
    "collapsed": false
   }
  },
  {
   "cell_type": "code",
   "execution_count": 78,
   "outputs": [],
   "source": [
    "model = FastText(vector_size=200, window=5, min_count=100)\n",
    "model.build_vocab(corpus_iterable=data_input)"
   ],
   "metadata": {
    "collapsed": false
   }
  },
  {
   "cell_type": "code",
   "execution_count": 79,
   "outputs": [
    {
     "data": {
      "text/plain": "(418588353, 2390533450)"
     },
     "execution_count": 79,
     "metadata": {},
     "output_type": "execute_result"
    }
   ],
   "source": [
    "model.train(data_input, total_examples=model.corpus_count, epochs=25)  # Longer training than default because the dataset isn't large"
   ],
   "metadata": {
    "collapsed": false
   }
  },
  {
   "cell_type": "code",
   "execution_count": 80,
   "outputs": [],
   "source": [
    "model.save(\"fasttext_trained_v3\")"
   ],
   "metadata": {
    "collapsed": false
   }
  },
  {
   "cell_type": "markdown",
   "source": [
    "### Testing the vectorization"
   ],
   "metadata": {
    "collapsed": false
   }
  },
  {
   "cell_type": "code",
   "execution_count": 81,
   "outputs": [
    {
     "name": "stdout",
     "output_type": "stream",
     "text": [
      "[('s', 0.18077237904071808), ('c', 0.14272266626358032), ('―', 0.13422559201717377), ('u', 0.13260796666145325), ('m', 0.11276456713676453)]\n"
     ]
    }
   ],
   "source": [
    "similarities = model.wv.most_similar(positive=['realistic', 'graphics'], negative=['pixel'], topn=10, restrict_vocab=200)\n",
    "most_similar = similarities[:5]\n",
    "print(most_similar)"
   ],
   "metadata": {
    "collapsed": false
   }
  },
  {
   "cell_type": "code",
   "execution_count": 82,
   "outputs": [],
   "source": [
    "import numpy as np\n",
    "from numpy.linalg import norm\n",
    "def cosine_similarity(A, B):\n",
    "    all_zeros = not (np.any(A) and np.any(B))\n",
    "    if all_zeros:\n",
    "        return 0.0\n",
    "    return (np.dot(A, B) / (norm(A) * norm(B)))\n",
    "\n",
    "def compare_text(A,B):\n",
    "    A_normalized = process_line(A)\n",
    "    B_normalized = process_line(B)\n",
    "    A_vector = model.wv.get_sentence_vector(A_normalized)\n",
    "    B_vector = model.wv.get_sentence_vector(B_normalized)\n",
    "\n",
    "    print(cosine_similarity(A_vector,B_vector))"
   ],
   "metadata": {
    "collapsed": false
   }
  },
  {
   "cell_type": "code",
   "execution_count": 83,
   "outputs": [
    {
     "name": "stdout",
     "output_type": "stream",
     "text": [
      "0.9201918\n"
     ]
    }
   ],
   "source": [
    "compare_text(\"realistic\", \"simulation\")"
   ],
   "metadata": {
    "collapsed": false
   }
  },
  {
   "cell_type": "code",
   "execution_count": 84,
   "outputs": [
    {
     "name": "stdout",
     "output_type": "stream",
     "text": [
      "0.7028196\n"
     ]
    }
   ],
   "source": [
    "compare_text(\"realistic\", \"fantasy\")"
   ],
   "metadata": {
    "collapsed": false
   }
  },
  {
   "cell_type": "code",
   "execution_count": 85,
   "outputs": [
    {
     "name": "stdout",
     "output_type": "stream",
     "text": [
      "0.5577753\n"
     ]
    }
   ],
   "source": [
    "compare_text(\"RPG\", \"roleplay\")"
   ],
   "metadata": {
    "collapsed": false
   }
  },
  {
   "cell_type": "code",
   "execution_count": 86,
   "outputs": [
    {
     "name": "stdout",
     "output_type": "stream",
     "text": [
      "0.4688035\n"
     ]
    }
   ],
   "source": [
    "compare_text(\"RPG\", \"RTS\")"
   ],
   "metadata": {
    "collapsed": false
   }
  },
  {
   "cell_type": "code",
   "execution_count": 87,
   "outputs": [
    {
     "name": "stdout",
     "output_type": "stream",
     "text": [
      "0.69503295\n"
     ]
    }
   ],
   "source": [
    "compare_text(\"RPG\", \"racing game\")"
   ],
   "metadata": {
    "collapsed": false
   }
  },
  {
   "cell_type": "code",
   "execution_count": 88,
   "outputs": [
    {
     "name": "stdout",
     "output_type": "stream",
     "text": [
      "0.48132095\n"
     ]
    }
   ],
   "source": [
    "compare_text(\"horror\", \"racing game\")"
   ],
   "metadata": {
    "collapsed": false
   }
  },
  {
   "cell_type": "code",
   "execution_count": 89,
   "outputs": [
    {
     "name": "stdout",
     "output_type": "stream",
     "text": [
      "0.68783134\n"
     ]
    }
   ],
   "source": [
    "compare_text(\"pixel art\", \"RTS\")"
   ],
   "metadata": {
    "collapsed": false
   }
  },
  {
   "cell_type": "code",
   "execution_count": 90,
   "outputs": [
    {
     "name": "stdout",
     "output_type": "stream",
     "text": [
      "0.720731\n"
     ]
    }
   ],
   "source": [
    "compare_text(\"pixel art\", \"RPG\")"
   ],
   "metadata": {
    "collapsed": false
   }
  },
  {
   "cell_type": "code",
   "execution_count": 91,
   "outputs": [],
   "source": [
    "def compare_games(id1, id2):\n",
    "    name_1 = english_descriptions[english_descriptions['AppID']==id1]['Name'].values[0]\n",
    "    name_2 = english_descriptions[english_descriptions['AppID']==id2]['Name'].values[0]\n",
    "    print(f\"Similarity between \\n{name_1} and \\n{name_2}\")\n",
    "    desc1 = english_descriptions[english_descriptions['AppID']==id1]['About the game'].values[0]\n",
    "    desc2 = english_descriptions[english_descriptions['AppID']==id2]['About the game'].values[0]\n",
    "    compare_text(desc1, desc2)\n",
    "    print(\"\\n\\n\")"
   ],
   "metadata": {
    "collapsed": false
   }
  },
  {
   "cell_type": "code",
   "execution_count": 95,
   "outputs": [
    {
     "name": "stdout",
     "output_type": "stream",
     "text": [
      "Similarity between \n",
      "Hello Charlotte EP2: Requiem Aeternam Deo and \n",
      "The Witch's House MV\n",
      "0.99708587\n",
      "\n",
      "\n",
      "\n",
      "Similarity between \n",
      "The Witch's House MV and \n",
      "Ib\n",
      "0.9983693\n",
      "\n",
      "\n",
      "\n",
      "Similarity between \n",
      "The Witch's House MV and \n",
      "DARK SOULS™: REMASTERED\n",
      "0.996813\n",
      "\n",
      "\n",
      "\n",
      "Similarity between \n",
      "DARK SOULS™ II and \n",
      "DARK SOULS™: REMASTERED\n",
      "0.9984196\n",
      "\n",
      "\n",
      "\n",
      "Similarity between \n",
      "DARK SOULS™ III and \n",
      "DARK SOULS™: REMASTERED\n",
      "0.9990789\n",
      "\n",
      "\n",
      "\n",
      "Similarity between \n",
      "SimCity™ 4 Deluxe Edition and \n",
      "DARK SOULS™: REMASTERED\n",
      "0.9978094\n",
      "\n",
      "\n",
      "\n",
      "Similarity between \n",
      "SimCity™ 4 Deluxe Edition and \n",
      "Cities: Skylines\n",
      "0.9989362\n",
      "\n",
      "\n",
      "\n",
      "Similarity between \n",
      "Hello Charlotte EP2: Requiem Aeternam Deo and \n",
      "Cities: Skylines\n",
      "0.9953719\n",
      "\n",
      "\n",
      "\n",
      "Similarity between \n",
      "Cities: Skylines and \n",
      "The Witcher® 3: Wild Hunt\n",
      "0.9977336\n",
      "\n",
      "\n",
      "\n",
      "Similarity between \n",
      "DARK SOULS™ III and \n",
      "The Witcher® 3: Wild Hunt\n",
      "0.9973756\n",
      "\n",
      "\n",
      "\n"
     ]
    }
   ],
   "source": [
    "compare_games(557630, 885810)\n",
    "compare_games(885810, 1901370)\n",
    "\n",
    "compare_games(885810, 570940)\n",
    "compare_games(236430, 570940)\n",
    "compare_games(374320, 570940)\n",
    "\n",
    "compare_games(24780, 570940)\n",
    "compare_games(24780, 255710)\n",
    "\n",
    "compare_games(557630, 255710)\n",
    "\n",
    "compare_games(255710, 292030)\n",
    "compare_games(374320, 292030)"
   ],
   "metadata": {
    "collapsed": false
   }
  },
  {
   "cell_type": "markdown",
   "source": [
    "### Conclusion:\n",
    "\n",
    "Unfortunately it appears that the game descriptions are too long for FastText to extract useful info from using word vector averaging.\n",
    "\n",
    "Attempted to use different numbers of epochs, but the results were unsatisfactory.\n",
    "\n",
    "Many games (and genres) have similar description vectors, and dissimilar games sometimes have more similar vectors than similar ones.\n",
    "\n",
    "Doc2vec might provide better results"
   ],
   "metadata": {
    "collapsed": false
   }
  },
  {
   "cell_type": "code",
   "execution_count": null,
   "outputs": [],
   "source": [],
   "metadata": {
    "collapsed": false
   }
  }
 ],
 "metadata": {
  "kernelspec": {
   "display_name": "Python 3",
   "language": "python",
   "name": "python3"
  },
  "language_info": {
   "codemirror_mode": {
    "name": "ipython",
    "version": 2
   },
   "file_extension": ".py",
   "mimetype": "text/x-python",
   "name": "python",
   "nbconvert_exporter": "python",
   "pygments_lexer": "ipython2",
   "version": "2.7.6"
  }
 },
 "nbformat": 4,
 "nbformat_minor": 0
}
